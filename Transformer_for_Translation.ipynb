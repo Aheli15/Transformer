{
  "nbformat": 4,
  "nbformat_minor": 0,
  "metadata": {
    "colab": {
      "name": "Transformer for Translation.ipynb",
      "provenance": [],
      "collapsed_sections": []
    },
    "kernelspec": {
      "name": "python3",
      "display_name": "Python 3"
    },
    "accelerator": "GPU",
    "widgets": {
      "application/vnd.jupyter.widget-state+json": {
        "58ea6800f38b4e4abf87d3185cb2a5c8": {
          "model_module": "@jupyter-widgets/controls",
          "model_name": "HBoxModel",
          "state": {
            "_view_name": "HBoxView",
            "_dom_classes": [],
            "_model_name": "HBoxModel",
            "_view_module": "@jupyter-widgets/controls",
            "_model_module_version": "1.5.0",
            "_view_count": null,
            "_view_module_version": "1.5.0",
            "box_style": "",
            "layout": "IPY_MODEL_fdf6f0fbe2c5407cba96d3af3b701793",
            "_model_module": "@jupyter-widgets/controls",
            "children": [
              "IPY_MODEL_1de13f054971468d9b71a5a36cb5be79",
              "IPY_MODEL_3322274b727c4638b3b48d4729c6c866"
            ]
          }
        },
        "fdf6f0fbe2c5407cba96d3af3b701793": {
          "model_module": "@jupyter-widgets/base",
          "model_name": "LayoutModel",
          "state": {
            "_view_name": "LayoutView",
            "grid_template_rows": null,
            "right": null,
            "justify_content": null,
            "_view_module": "@jupyter-widgets/base",
            "overflow": null,
            "_model_module_version": "1.2.0",
            "_view_count": null,
            "flex_flow": null,
            "width": null,
            "min_width": null,
            "border": null,
            "align_items": null,
            "bottom": null,
            "_model_module": "@jupyter-widgets/base",
            "top": null,
            "grid_column": null,
            "overflow_y": null,
            "overflow_x": null,
            "grid_auto_flow": null,
            "grid_area": null,
            "grid_template_columns": null,
            "flex": null,
            "_model_name": "LayoutModel",
            "justify_items": null,
            "grid_row": null,
            "max_height": null,
            "align_content": null,
            "visibility": null,
            "align_self": null,
            "height": null,
            "min_height": null,
            "padding": null,
            "grid_auto_rows": null,
            "grid_gap": null,
            "max_width": null,
            "order": null,
            "_view_module_version": "1.2.0",
            "grid_template_areas": null,
            "object_position": null,
            "object_fit": null,
            "grid_auto_columns": null,
            "margin": null,
            "display": null,
            "left": null
          }
        },
        "1de13f054971468d9b71a5a36cb5be79": {
          "model_module": "@jupyter-widgets/controls",
          "model_name": "IntProgressModel",
          "state": {
            "_view_name": "ProgressView",
            "style": "IPY_MODEL_732ca9d8a40e4ddda5c4cf1c3e2b4b92",
            "_dom_classes": [],
            "description": "Dl Completed...: 100%",
            "_model_name": "IntProgressModel",
            "bar_style": "success",
            "max": 1,
            "_view_module": "@jupyter-widgets/controls",
            "_model_module_version": "1.5.0",
            "value": 1,
            "_view_count": null,
            "_view_module_version": "1.5.0",
            "orientation": "horizontal",
            "min": 0,
            "description_tooltip": null,
            "_model_module": "@jupyter-widgets/controls",
            "layout": "IPY_MODEL_3cea0fe0f10b4dd39e0bb47c6a2f7e4a"
          }
        },
        "3322274b727c4638b3b48d4729c6c866": {
          "model_module": "@jupyter-widgets/controls",
          "model_name": "HTMLModel",
          "state": {
            "_view_name": "HTMLView",
            "style": "IPY_MODEL_00af2f411a50433d8d7e740a0b2e3ea7",
            "_dom_classes": [],
            "description": "",
            "_model_name": "HTMLModel",
            "placeholder": "​",
            "_view_module": "@jupyter-widgets/controls",
            "_model_module_version": "1.5.0",
            "value": " 1/1 [00:09&lt;00:00,  9.64s/ url]",
            "_view_count": null,
            "_view_module_version": "1.5.0",
            "description_tooltip": null,
            "_model_module": "@jupyter-widgets/controls",
            "layout": "IPY_MODEL_1fbab534f0fe4f89a65bef9a1f9806ae"
          }
        },
        "732ca9d8a40e4ddda5c4cf1c3e2b4b92": {
          "model_module": "@jupyter-widgets/controls",
          "model_name": "ProgressStyleModel",
          "state": {
            "_view_name": "StyleView",
            "_model_name": "ProgressStyleModel",
            "description_width": "initial",
            "_view_module": "@jupyter-widgets/base",
            "_model_module_version": "1.5.0",
            "_view_count": null,
            "_view_module_version": "1.2.0",
            "bar_color": null,
            "_model_module": "@jupyter-widgets/controls"
          }
        },
        "3cea0fe0f10b4dd39e0bb47c6a2f7e4a": {
          "model_module": "@jupyter-widgets/base",
          "model_name": "LayoutModel",
          "state": {
            "_view_name": "LayoutView",
            "grid_template_rows": null,
            "right": null,
            "justify_content": null,
            "_view_module": "@jupyter-widgets/base",
            "overflow": null,
            "_model_module_version": "1.2.0",
            "_view_count": null,
            "flex_flow": null,
            "width": null,
            "min_width": null,
            "border": null,
            "align_items": null,
            "bottom": null,
            "_model_module": "@jupyter-widgets/base",
            "top": null,
            "grid_column": null,
            "overflow_y": null,
            "overflow_x": null,
            "grid_auto_flow": null,
            "grid_area": null,
            "grid_template_columns": null,
            "flex": null,
            "_model_name": "LayoutModel",
            "justify_items": null,
            "grid_row": null,
            "max_height": null,
            "align_content": null,
            "visibility": null,
            "align_self": null,
            "height": null,
            "min_height": null,
            "padding": null,
            "grid_auto_rows": null,
            "grid_gap": null,
            "max_width": null,
            "order": null,
            "_view_module_version": "1.2.0",
            "grid_template_areas": null,
            "object_position": null,
            "object_fit": null,
            "grid_auto_columns": null,
            "margin": null,
            "display": null,
            "left": null
          }
        },
        "00af2f411a50433d8d7e740a0b2e3ea7": {
          "model_module": "@jupyter-widgets/controls",
          "model_name": "DescriptionStyleModel",
          "state": {
            "_view_name": "StyleView",
            "_model_name": "DescriptionStyleModel",
            "description_width": "",
            "_view_module": "@jupyter-widgets/base",
            "_model_module_version": "1.5.0",
            "_view_count": null,
            "_view_module_version": "1.2.0",
            "_model_module": "@jupyter-widgets/controls"
          }
        },
        "1fbab534f0fe4f89a65bef9a1f9806ae": {
          "model_module": "@jupyter-widgets/base",
          "model_name": "LayoutModel",
          "state": {
            "_view_name": "LayoutView",
            "grid_template_rows": null,
            "right": null,
            "justify_content": null,
            "_view_module": "@jupyter-widgets/base",
            "overflow": null,
            "_model_module_version": "1.2.0",
            "_view_count": null,
            "flex_flow": null,
            "width": null,
            "min_width": null,
            "border": null,
            "align_items": null,
            "bottom": null,
            "_model_module": "@jupyter-widgets/base",
            "top": null,
            "grid_column": null,
            "overflow_y": null,
            "overflow_x": null,
            "grid_auto_flow": null,
            "grid_area": null,
            "grid_template_columns": null,
            "flex": null,
            "_model_name": "LayoutModel",
            "justify_items": null,
            "grid_row": null,
            "max_height": null,
            "align_content": null,
            "visibility": null,
            "align_self": null,
            "height": null,
            "min_height": null,
            "padding": null,
            "grid_auto_rows": null,
            "grid_gap": null,
            "max_width": null,
            "order": null,
            "_view_module_version": "1.2.0",
            "grid_template_areas": null,
            "object_position": null,
            "object_fit": null,
            "grid_auto_columns": null,
            "margin": null,
            "display": null,
            "left": null
          }
        },
        "60ea79bfb88d4d49a46f6a41aefa7846": {
          "model_module": "@jupyter-widgets/controls",
          "model_name": "HBoxModel",
          "state": {
            "_view_name": "HBoxView",
            "_dom_classes": [],
            "_model_name": "HBoxModel",
            "_view_module": "@jupyter-widgets/controls",
            "_model_module_version": "1.5.0",
            "_view_count": null,
            "_view_module_version": "1.5.0",
            "box_style": "",
            "layout": "IPY_MODEL_eefc08044f6c4a9e9a212848dc8d8acd",
            "_model_module": "@jupyter-widgets/controls",
            "children": [
              "IPY_MODEL_58251b970a23406db29179e6b3b0785d",
              "IPY_MODEL_b5feb0e78d32488694daaa67d44bbbb2"
            ]
          }
        },
        "eefc08044f6c4a9e9a212848dc8d8acd": {
          "model_module": "@jupyter-widgets/base",
          "model_name": "LayoutModel",
          "state": {
            "_view_name": "LayoutView",
            "grid_template_rows": null,
            "right": null,
            "justify_content": null,
            "_view_module": "@jupyter-widgets/base",
            "overflow": null,
            "_model_module_version": "1.2.0",
            "_view_count": null,
            "flex_flow": null,
            "width": null,
            "min_width": null,
            "border": null,
            "align_items": null,
            "bottom": null,
            "_model_module": "@jupyter-widgets/base",
            "top": null,
            "grid_column": null,
            "overflow_y": null,
            "overflow_x": null,
            "grid_auto_flow": null,
            "grid_area": null,
            "grid_template_columns": null,
            "flex": null,
            "_model_name": "LayoutModel",
            "justify_items": null,
            "grid_row": null,
            "max_height": null,
            "align_content": null,
            "visibility": null,
            "align_self": null,
            "height": null,
            "min_height": null,
            "padding": null,
            "grid_auto_rows": null,
            "grid_gap": null,
            "max_width": null,
            "order": null,
            "_view_module_version": "1.2.0",
            "grid_template_areas": null,
            "object_position": null,
            "object_fit": null,
            "grid_auto_columns": null,
            "margin": null,
            "display": null,
            "left": null
          }
        },
        "58251b970a23406db29179e6b3b0785d": {
          "model_module": "@jupyter-widgets/controls",
          "model_name": "IntProgressModel",
          "state": {
            "_view_name": "ProgressView",
            "style": "IPY_MODEL_c7cade1c73e94d8eba46c28ca0b5b8ce",
            "_dom_classes": [],
            "description": "Dl Size...: 100%",
            "_model_name": "IntProgressModel",
            "bar_style": "success",
            "max": 1,
            "_view_module": "@jupyter-widgets/controls",
            "_model_module_version": "1.5.0",
            "value": 1,
            "_view_count": null,
            "_view_module_version": "1.5.0",
            "orientation": "horizontal",
            "min": 0,
            "description_tooltip": null,
            "_model_module": "@jupyter-widgets/controls",
            "layout": "IPY_MODEL_8f004dcfd7954538890424b889b9d407"
          }
        },
        "b5feb0e78d32488694daaa67d44bbbb2": {
          "model_module": "@jupyter-widgets/controls",
          "model_name": "HTMLModel",
          "state": {
            "_view_name": "HTMLView",
            "style": "IPY_MODEL_2925e250133d4403b7fb06fc31548750",
            "_dom_classes": [],
            "description": "",
            "_model_name": "HTMLModel",
            "placeholder": "​",
            "_view_module": "@jupyter-widgets/controls",
            "_model_module_version": "1.5.0",
            "value": " 124/124 [00:09&lt;00:00, 12.92 MiB/s]",
            "_view_count": null,
            "_view_module_version": "1.5.0",
            "description_tooltip": null,
            "_model_module": "@jupyter-widgets/controls",
            "layout": "IPY_MODEL_f0374cb7b42c436a96e9465f13bc65cb"
          }
        },
        "c7cade1c73e94d8eba46c28ca0b5b8ce": {
          "model_module": "@jupyter-widgets/controls",
          "model_name": "ProgressStyleModel",
          "state": {
            "_view_name": "StyleView",
            "_model_name": "ProgressStyleModel",
            "description_width": "initial",
            "_view_module": "@jupyter-widgets/base",
            "_model_module_version": "1.5.0",
            "_view_count": null,
            "_view_module_version": "1.2.0",
            "bar_color": null,
            "_model_module": "@jupyter-widgets/controls"
          }
        },
        "8f004dcfd7954538890424b889b9d407": {
          "model_module": "@jupyter-widgets/base",
          "model_name": "LayoutModel",
          "state": {
            "_view_name": "LayoutView",
            "grid_template_rows": null,
            "right": null,
            "justify_content": null,
            "_view_module": "@jupyter-widgets/base",
            "overflow": null,
            "_model_module_version": "1.2.0",
            "_view_count": null,
            "flex_flow": null,
            "width": null,
            "min_width": null,
            "border": null,
            "align_items": null,
            "bottom": null,
            "_model_module": "@jupyter-widgets/base",
            "top": null,
            "grid_column": null,
            "overflow_y": null,
            "overflow_x": null,
            "grid_auto_flow": null,
            "grid_area": null,
            "grid_template_columns": null,
            "flex": null,
            "_model_name": "LayoutModel",
            "justify_items": null,
            "grid_row": null,
            "max_height": null,
            "align_content": null,
            "visibility": null,
            "align_self": null,
            "height": null,
            "min_height": null,
            "padding": null,
            "grid_auto_rows": null,
            "grid_gap": null,
            "max_width": null,
            "order": null,
            "_view_module_version": "1.2.0",
            "grid_template_areas": null,
            "object_position": null,
            "object_fit": null,
            "grid_auto_columns": null,
            "margin": null,
            "display": null,
            "left": null
          }
        },
        "2925e250133d4403b7fb06fc31548750": {
          "model_module": "@jupyter-widgets/controls",
          "model_name": "DescriptionStyleModel",
          "state": {
            "_view_name": "StyleView",
            "_model_name": "DescriptionStyleModel",
            "description_width": "",
            "_view_module": "@jupyter-widgets/base",
            "_model_module_version": "1.5.0",
            "_view_count": null,
            "_view_module_version": "1.2.0",
            "_model_module": "@jupyter-widgets/controls"
          }
        },
        "f0374cb7b42c436a96e9465f13bc65cb": {
          "model_module": "@jupyter-widgets/base",
          "model_name": "LayoutModel",
          "state": {
            "_view_name": "LayoutView",
            "grid_template_rows": null,
            "right": null,
            "justify_content": null,
            "_view_module": "@jupyter-widgets/base",
            "overflow": null,
            "_model_module_version": "1.2.0",
            "_view_count": null,
            "flex_flow": null,
            "width": null,
            "min_width": null,
            "border": null,
            "align_items": null,
            "bottom": null,
            "_model_module": "@jupyter-widgets/base",
            "top": null,
            "grid_column": null,
            "overflow_y": null,
            "overflow_x": null,
            "grid_auto_flow": null,
            "grid_area": null,
            "grid_template_columns": null,
            "flex": null,
            "_model_name": "LayoutModel",
            "justify_items": null,
            "grid_row": null,
            "max_height": null,
            "align_content": null,
            "visibility": null,
            "align_self": null,
            "height": null,
            "min_height": null,
            "padding": null,
            "grid_auto_rows": null,
            "grid_gap": null,
            "max_width": null,
            "order": null,
            "_view_module_version": "1.2.0",
            "grid_template_areas": null,
            "object_position": null,
            "object_fit": null,
            "grid_auto_columns": null,
            "margin": null,
            "display": null,
            "left": null
          }
        },
        "0ccc06b4a8224d43a14bb9ab9357b6e8": {
          "model_module": "@jupyter-widgets/controls",
          "model_name": "HBoxModel",
          "state": {
            "_view_name": "HBoxView",
            "_dom_classes": [],
            "_model_name": "HBoxModel",
            "_view_module": "@jupyter-widgets/controls",
            "_model_module_version": "1.5.0",
            "_view_count": null,
            "_view_module_version": "1.5.0",
            "box_style": "",
            "layout": "IPY_MODEL_918c8899e5a34843872c09c2cac4682c",
            "_model_module": "@jupyter-widgets/controls",
            "children": [
              "IPY_MODEL_370a16f0410a4fa3ac59453e9913e93e",
              "IPY_MODEL_70f2ab1c53734120809642d809b5046a"
            ]
          }
        },
        "918c8899e5a34843872c09c2cac4682c": {
          "model_module": "@jupyter-widgets/base",
          "model_name": "LayoutModel",
          "state": {
            "_view_name": "LayoutView",
            "grid_template_rows": null,
            "right": null,
            "justify_content": null,
            "_view_module": "@jupyter-widgets/base",
            "overflow": null,
            "_model_module_version": "1.2.0",
            "_view_count": null,
            "flex_flow": null,
            "width": null,
            "min_width": null,
            "border": null,
            "align_items": null,
            "bottom": null,
            "_model_module": "@jupyter-widgets/base",
            "top": null,
            "grid_column": null,
            "overflow_y": null,
            "overflow_x": null,
            "grid_auto_flow": null,
            "grid_area": null,
            "grid_template_columns": null,
            "flex": null,
            "_model_name": "LayoutModel",
            "justify_items": null,
            "grid_row": null,
            "max_height": null,
            "align_content": null,
            "visibility": null,
            "align_self": null,
            "height": null,
            "min_height": null,
            "padding": null,
            "grid_auto_rows": null,
            "grid_gap": null,
            "max_width": null,
            "order": null,
            "_view_module_version": "1.2.0",
            "grid_template_areas": null,
            "object_position": null,
            "object_fit": null,
            "grid_auto_columns": null,
            "margin": null,
            "display": null,
            "left": null
          }
        },
        "370a16f0410a4fa3ac59453e9913e93e": {
          "model_module": "@jupyter-widgets/controls",
          "model_name": "IntProgressModel",
          "state": {
            "_view_name": "ProgressView",
            "style": "IPY_MODEL_f2cae9b1ddc14eb29b5b6539a6028c0e",
            "_dom_classes": [],
            "description": "Extraction completed...: 100%",
            "_model_name": "IntProgressModel",
            "bar_style": "success",
            "max": 1,
            "_view_module": "@jupyter-widgets/controls",
            "_model_module_version": "1.5.0",
            "value": 1,
            "_view_count": null,
            "_view_module_version": "1.5.0",
            "orientation": "horizontal",
            "min": 0,
            "description_tooltip": null,
            "_model_module": "@jupyter-widgets/controls",
            "layout": "IPY_MODEL_01761553b27e4913a4153017f3a01402"
          }
        },
        "70f2ab1c53734120809642d809b5046a": {
          "model_module": "@jupyter-widgets/controls",
          "model_name": "HTMLModel",
          "state": {
            "_view_name": "HTMLView",
            "style": "IPY_MODEL_98dcbecf531d4015951b31946c91b00f",
            "_dom_classes": [],
            "description": "",
            "_model_name": "HTMLModel",
            "placeholder": "​",
            "_view_module": "@jupyter-widgets/controls",
            "_model_module_version": "1.5.0",
            "value": " 1/1 [00:09&lt;00:00,  9.55s/ file]",
            "_view_count": null,
            "_view_module_version": "1.5.0",
            "description_tooltip": null,
            "_model_module": "@jupyter-widgets/controls",
            "layout": "IPY_MODEL_e39bd3580bf34115aa700fdb34de9930"
          }
        },
        "f2cae9b1ddc14eb29b5b6539a6028c0e": {
          "model_module": "@jupyter-widgets/controls",
          "model_name": "ProgressStyleModel",
          "state": {
            "_view_name": "StyleView",
            "_model_name": "ProgressStyleModel",
            "description_width": "initial",
            "_view_module": "@jupyter-widgets/base",
            "_model_module_version": "1.5.0",
            "_view_count": null,
            "_view_module_version": "1.2.0",
            "bar_color": null,
            "_model_module": "@jupyter-widgets/controls"
          }
        },
        "01761553b27e4913a4153017f3a01402": {
          "model_module": "@jupyter-widgets/base",
          "model_name": "LayoutModel",
          "state": {
            "_view_name": "LayoutView",
            "grid_template_rows": null,
            "right": null,
            "justify_content": null,
            "_view_module": "@jupyter-widgets/base",
            "overflow": null,
            "_model_module_version": "1.2.0",
            "_view_count": null,
            "flex_flow": null,
            "width": null,
            "min_width": null,
            "border": null,
            "align_items": null,
            "bottom": null,
            "_model_module": "@jupyter-widgets/base",
            "top": null,
            "grid_column": null,
            "overflow_y": null,
            "overflow_x": null,
            "grid_auto_flow": null,
            "grid_area": null,
            "grid_template_columns": null,
            "flex": null,
            "_model_name": "LayoutModel",
            "justify_items": null,
            "grid_row": null,
            "max_height": null,
            "align_content": null,
            "visibility": null,
            "align_self": null,
            "height": null,
            "min_height": null,
            "padding": null,
            "grid_auto_rows": null,
            "grid_gap": null,
            "max_width": null,
            "order": null,
            "_view_module_version": "1.2.0",
            "grid_template_areas": null,
            "object_position": null,
            "object_fit": null,
            "grid_auto_columns": null,
            "margin": null,
            "display": null,
            "left": null
          }
        },
        "98dcbecf531d4015951b31946c91b00f": {
          "model_module": "@jupyter-widgets/controls",
          "model_name": "DescriptionStyleModel",
          "state": {
            "_view_name": "StyleView",
            "_model_name": "DescriptionStyleModel",
            "description_width": "",
            "_view_module": "@jupyter-widgets/base",
            "_model_module_version": "1.5.0",
            "_view_count": null,
            "_view_module_version": "1.2.0",
            "_model_module": "@jupyter-widgets/controls"
          }
        },
        "e39bd3580bf34115aa700fdb34de9930": {
          "model_module": "@jupyter-widgets/base",
          "model_name": "LayoutModel",
          "state": {
            "_view_name": "LayoutView",
            "grid_template_rows": null,
            "right": null,
            "justify_content": null,
            "_view_module": "@jupyter-widgets/base",
            "overflow": null,
            "_model_module_version": "1.2.0",
            "_view_count": null,
            "flex_flow": null,
            "width": null,
            "min_width": null,
            "border": null,
            "align_items": null,
            "bottom": null,
            "_model_module": "@jupyter-widgets/base",
            "top": null,
            "grid_column": null,
            "overflow_y": null,
            "overflow_x": null,
            "grid_auto_flow": null,
            "grid_area": null,
            "grid_template_columns": null,
            "flex": null,
            "_model_name": "LayoutModel",
            "justify_items": null,
            "grid_row": null,
            "max_height": null,
            "align_content": null,
            "visibility": null,
            "align_self": null,
            "height": null,
            "min_height": null,
            "padding": null,
            "grid_auto_rows": null,
            "grid_gap": null,
            "max_width": null,
            "order": null,
            "_view_module_version": "1.2.0",
            "grid_template_areas": null,
            "object_position": null,
            "object_fit": null,
            "grid_auto_columns": null,
            "margin": null,
            "display": null,
            "left": null
          }
        },
        "38bba11016ee4d35a2b7073a1fc404b7": {
          "model_module": "@jupyter-widgets/controls",
          "model_name": "HBoxModel",
          "state": {
            "_view_name": "HBoxView",
            "_dom_classes": [],
            "_model_name": "HBoxModel",
            "_view_module": "@jupyter-widgets/controls",
            "_model_module_version": "1.5.0",
            "_view_count": null,
            "_view_module_version": "1.5.0",
            "box_style": "",
            "layout": "IPY_MODEL_5c6d109dcc45418abab9cbd3a4a3ab45",
            "_model_module": "@jupyter-widgets/controls",
            "children": [
              "IPY_MODEL_a2f16576e560437d84f7c0a176cbb507",
              "IPY_MODEL_9e801a8ecd84423faa05e06d31312282"
            ]
          }
        },
        "5c6d109dcc45418abab9cbd3a4a3ab45": {
          "model_module": "@jupyter-widgets/base",
          "model_name": "LayoutModel",
          "state": {
            "_view_name": "LayoutView",
            "grid_template_rows": null,
            "right": null,
            "justify_content": null,
            "_view_module": "@jupyter-widgets/base",
            "overflow": null,
            "_model_module_version": "1.2.0",
            "_view_count": null,
            "flex_flow": null,
            "width": null,
            "min_width": null,
            "border": null,
            "align_items": null,
            "bottom": null,
            "_model_module": "@jupyter-widgets/base",
            "top": null,
            "grid_column": null,
            "overflow_y": null,
            "overflow_x": null,
            "grid_auto_flow": null,
            "grid_area": null,
            "grid_template_columns": null,
            "flex": null,
            "_model_name": "LayoutModel",
            "justify_items": null,
            "grid_row": null,
            "max_height": null,
            "align_content": null,
            "visibility": null,
            "align_self": null,
            "height": null,
            "min_height": null,
            "padding": null,
            "grid_auto_rows": null,
            "grid_gap": null,
            "max_width": null,
            "order": null,
            "_view_module_version": "1.2.0",
            "grid_template_areas": null,
            "object_position": null,
            "object_fit": null,
            "grid_auto_columns": null,
            "margin": null,
            "display": null,
            "left": null
          }
        },
        "a2f16576e560437d84f7c0a176cbb507": {
          "model_module": "@jupyter-widgets/controls",
          "model_name": "IntProgressModel",
          "state": {
            "_view_name": "ProgressView",
            "style": "IPY_MODEL_a7c37609513d4f478c2cf2703e6181b8",
            "_dom_classes": [],
            "description": "",
            "_model_name": "IntProgressModel",
            "bar_style": "info",
            "max": 1,
            "_view_module": "@jupyter-widgets/controls",
            "_model_module_version": "1.5.0",
            "value": 1,
            "_view_count": null,
            "_view_module_version": "1.5.0",
            "orientation": "horizontal",
            "min": 0,
            "description_tooltip": null,
            "_model_module": "@jupyter-widgets/controls",
            "layout": "IPY_MODEL_5d9c354389f14ee19f942c85b3879b4b"
          }
        },
        "9e801a8ecd84423faa05e06d31312282": {
          "model_module": "@jupyter-widgets/controls",
          "model_name": "HTMLModel",
          "state": {
            "_view_name": "HTMLView",
            "style": "IPY_MODEL_d3693a228bb34216a8ceb1c4df741020",
            "_dom_classes": [],
            "description": "",
            "_model_name": "HTMLModel",
            "placeholder": "​",
            "_view_module": "@jupyter-widgets/controls",
            "_model_module_version": "1.5.0",
            "value": " 51785/0 [00:13&lt;00:00, 3673.97 examples/s]",
            "_view_count": null,
            "_view_module_version": "1.5.0",
            "description_tooltip": null,
            "_model_module": "@jupyter-widgets/controls",
            "layout": "IPY_MODEL_f01cc936198f4da3b371eaade8e7d947"
          }
        },
        "a7c37609513d4f478c2cf2703e6181b8": {
          "model_module": "@jupyter-widgets/controls",
          "model_name": "ProgressStyleModel",
          "state": {
            "_view_name": "StyleView",
            "_model_name": "ProgressStyleModel",
            "description_width": "initial",
            "_view_module": "@jupyter-widgets/base",
            "_model_module_version": "1.5.0",
            "_view_count": null,
            "_view_module_version": "1.2.0",
            "bar_color": null,
            "_model_module": "@jupyter-widgets/controls"
          }
        },
        "5d9c354389f14ee19f942c85b3879b4b": {
          "model_module": "@jupyter-widgets/base",
          "model_name": "LayoutModel",
          "state": {
            "_view_name": "LayoutView",
            "grid_template_rows": null,
            "right": null,
            "justify_content": null,
            "_view_module": "@jupyter-widgets/base",
            "overflow": null,
            "_model_module_version": "1.2.0",
            "_view_count": null,
            "flex_flow": null,
            "width": null,
            "min_width": null,
            "border": null,
            "align_items": null,
            "bottom": null,
            "_model_module": "@jupyter-widgets/base",
            "top": null,
            "grid_column": null,
            "overflow_y": null,
            "overflow_x": null,
            "grid_auto_flow": null,
            "grid_area": null,
            "grid_template_columns": null,
            "flex": null,
            "_model_name": "LayoutModel",
            "justify_items": null,
            "grid_row": null,
            "max_height": null,
            "align_content": null,
            "visibility": null,
            "align_self": null,
            "height": null,
            "min_height": null,
            "padding": null,
            "grid_auto_rows": null,
            "grid_gap": null,
            "max_width": null,
            "order": null,
            "_view_module_version": "1.2.0",
            "grid_template_areas": null,
            "object_position": null,
            "object_fit": null,
            "grid_auto_columns": null,
            "margin": null,
            "display": null,
            "left": null
          }
        },
        "d3693a228bb34216a8ceb1c4df741020": {
          "model_module": "@jupyter-widgets/controls",
          "model_name": "DescriptionStyleModel",
          "state": {
            "_view_name": "StyleView",
            "_model_name": "DescriptionStyleModel",
            "description_width": "",
            "_view_module": "@jupyter-widgets/base",
            "_model_module_version": "1.5.0",
            "_view_count": null,
            "_view_module_version": "1.2.0",
            "_model_module": "@jupyter-widgets/controls"
          }
        },
        "f01cc936198f4da3b371eaade8e7d947": {
          "model_module": "@jupyter-widgets/base",
          "model_name": "LayoutModel",
          "state": {
            "_view_name": "LayoutView",
            "grid_template_rows": null,
            "right": null,
            "justify_content": null,
            "_view_module": "@jupyter-widgets/base",
            "overflow": null,
            "_model_module_version": "1.2.0",
            "_view_count": null,
            "flex_flow": null,
            "width": null,
            "min_width": null,
            "border": null,
            "align_items": null,
            "bottom": null,
            "_model_module": "@jupyter-widgets/base",
            "top": null,
            "grid_column": null,
            "overflow_y": null,
            "overflow_x": null,
            "grid_auto_flow": null,
            "grid_area": null,
            "grid_template_columns": null,
            "flex": null,
            "_model_name": "LayoutModel",
            "justify_items": null,
            "grid_row": null,
            "max_height": null,
            "align_content": null,
            "visibility": null,
            "align_self": null,
            "height": null,
            "min_height": null,
            "padding": null,
            "grid_auto_rows": null,
            "grid_gap": null,
            "max_width": null,
            "order": null,
            "_view_module_version": "1.2.0",
            "grid_template_areas": null,
            "object_position": null,
            "object_fit": null,
            "grid_auto_columns": null,
            "margin": null,
            "display": null,
            "left": null
          }
        },
        "6229935f2ae74deb80c4dd2b9807204d": {
          "model_module": "@jupyter-widgets/controls",
          "model_name": "HBoxModel",
          "state": {
            "_view_name": "HBoxView",
            "_dom_classes": [],
            "_model_name": "HBoxModel",
            "_view_module": "@jupyter-widgets/controls",
            "_model_module_version": "1.5.0",
            "_view_count": null,
            "_view_module_version": "1.5.0",
            "box_style": "",
            "layout": "IPY_MODEL_1ea498c412fa49909b2dc6df9fb0e657",
            "_model_module": "@jupyter-widgets/controls",
            "children": [
              "IPY_MODEL_29da6075697447fb886f26b210de6920",
              "IPY_MODEL_3f930261274f4bdc8bbe80d6f92d3145"
            ]
          }
        },
        "1ea498c412fa49909b2dc6df9fb0e657": {
          "model_module": "@jupyter-widgets/base",
          "model_name": "LayoutModel",
          "state": {
            "_view_name": "LayoutView",
            "grid_template_rows": null,
            "right": null,
            "justify_content": null,
            "_view_module": "@jupyter-widgets/base",
            "overflow": null,
            "_model_module_version": "1.2.0",
            "_view_count": null,
            "flex_flow": null,
            "width": null,
            "min_width": null,
            "border": null,
            "align_items": null,
            "bottom": null,
            "_model_module": "@jupyter-widgets/base",
            "top": null,
            "grid_column": null,
            "overflow_y": null,
            "overflow_x": null,
            "grid_auto_flow": null,
            "grid_area": null,
            "grid_template_columns": null,
            "flex": null,
            "_model_name": "LayoutModel",
            "justify_items": null,
            "grid_row": null,
            "max_height": null,
            "align_content": null,
            "visibility": null,
            "align_self": null,
            "height": null,
            "min_height": null,
            "padding": null,
            "grid_auto_rows": null,
            "grid_gap": null,
            "max_width": null,
            "order": null,
            "_view_module_version": "1.2.0",
            "grid_template_areas": null,
            "object_position": null,
            "object_fit": null,
            "grid_auto_columns": null,
            "margin": null,
            "display": null,
            "left": null
          }
        },
        "29da6075697447fb886f26b210de6920": {
          "model_module": "@jupyter-widgets/controls",
          "model_name": "IntProgressModel",
          "state": {
            "_view_name": "ProgressView",
            "style": "IPY_MODEL_c9cf4f8586bb4df39d785ff608751617",
            "_dom_classes": [],
            "description": " 81%",
            "_model_name": "IntProgressModel",
            "bar_style": "danger",
            "max": 51785,
            "_view_module": "@jupyter-widgets/controls",
            "_model_module_version": "1.5.0",
            "value": 41990,
            "_view_count": null,
            "_view_module_version": "1.5.0",
            "orientation": "horizontal",
            "min": 0,
            "description_tooltip": null,
            "_model_module": "@jupyter-widgets/controls",
            "layout": "IPY_MODEL_7c8701fa9b5b4e1abcc91514d6a6790a"
          }
        },
        "3f930261274f4bdc8bbe80d6f92d3145": {
          "model_module": "@jupyter-widgets/controls",
          "model_name": "HTMLModel",
          "state": {
            "_view_name": "HTMLView",
            "style": "IPY_MODEL_ccbd44df515841b698043466a853851e",
            "_dom_classes": [],
            "description": "",
            "_model_name": "HTMLModel",
            "placeholder": "​",
            "_view_module": "@jupyter-widgets/controls",
            "_model_module_version": "1.5.0",
            "value": " 41990/51785 [00:00&lt;00:00, 70042.52 examples/s]",
            "_view_count": null,
            "_view_module_version": "1.5.0",
            "description_tooltip": null,
            "_model_module": "@jupyter-widgets/controls",
            "layout": "IPY_MODEL_f7d6f86ca55843068f7364484f806fe0"
          }
        },
        "c9cf4f8586bb4df39d785ff608751617": {
          "model_module": "@jupyter-widgets/controls",
          "model_name": "ProgressStyleModel",
          "state": {
            "_view_name": "StyleView",
            "_model_name": "ProgressStyleModel",
            "description_width": "initial",
            "_view_module": "@jupyter-widgets/base",
            "_model_module_version": "1.5.0",
            "_view_count": null,
            "_view_module_version": "1.2.0",
            "bar_color": null,
            "_model_module": "@jupyter-widgets/controls"
          }
        },
        "7c8701fa9b5b4e1abcc91514d6a6790a": {
          "model_module": "@jupyter-widgets/base",
          "model_name": "LayoutModel",
          "state": {
            "_view_name": "LayoutView",
            "grid_template_rows": null,
            "right": null,
            "justify_content": null,
            "_view_module": "@jupyter-widgets/base",
            "overflow": null,
            "_model_module_version": "1.2.0",
            "_view_count": null,
            "flex_flow": null,
            "width": null,
            "min_width": null,
            "border": null,
            "align_items": null,
            "bottom": null,
            "_model_module": "@jupyter-widgets/base",
            "top": null,
            "grid_column": null,
            "overflow_y": null,
            "overflow_x": null,
            "grid_auto_flow": null,
            "grid_area": null,
            "grid_template_columns": null,
            "flex": null,
            "_model_name": "LayoutModel",
            "justify_items": null,
            "grid_row": null,
            "max_height": null,
            "align_content": null,
            "visibility": null,
            "align_self": null,
            "height": null,
            "min_height": null,
            "padding": null,
            "grid_auto_rows": null,
            "grid_gap": null,
            "max_width": null,
            "order": null,
            "_view_module_version": "1.2.0",
            "grid_template_areas": null,
            "object_position": null,
            "object_fit": null,
            "grid_auto_columns": null,
            "margin": null,
            "display": null,
            "left": null
          }
        },
        "ccbd44df515841b698043466a853851e": {
          "model_module": "@jupyter-widgets/controls",
          "model_name": "DescriptionStyleModel",
          "state": {
            "_view_name": "StyleView",
            "_model_name": "DescriptionStyleModel",
            "description_width": "",
            "_view_module": "@jupyter-widgets/base",
            "_model_module_version": "1.5.0",
            "_view_count": null,
            "_view_module_version": "1.2.0",
            "_model_module": "@jupyter-widgets/controls"
          }
        },
        "f7d6f86ca55843068f7364484f806fe0": {
          "model_module": "@jupyter-widgets/base",
          "model_name": "LayoutModel",
          "state": {
            "_view_name": "LayoutView",
            "grid_template_rows": null,
            "right": null,
            "justify_content": null,
            "_view_module": "@jupyter-widgets/base",
            "overflow": null,
            "_model_module_version": "1.2.0",
            "_view_count": null,
            "flex_flow": null,
            "width": null,
            "min_width": null,
            "border": null,
            "align_items": null,
            "bottom": null,
            "_model_module": "@jupyter-widgets/base",
            "top": null,
            "grid_column": null,
            "overflow_y": null,
            "overflow_x": null,
            "grid_auto_flow": null,
            "grid_area": null,
            "grid_template_columns": null,
            "flex": null,
            "_model_name": "LayoutModel",
            "justify_items": null,
            "grid_row": null,
            "max_height": null,
            "align_content": null,
            "visibility": null,
            "align_self": null,
            "height": null,
            "min_height": null,
            "padding": null,
            "grid_auto_rows": null,
            "grid_gap": null,
            "max_width": null,
            "order": null,
            "_view_module_version": "1.2.0",
            "grid_template_areas": null,
            "object_position": null,
            "object_fit": null,
            "grid_auto_columns": null,
            "margin": null,
            "display": null,
            "left": null
          }
        },
        "9612b38cb80f45f99b25450e519bf8f3": {
          "model_module": "@jupyter-widgets/controls",
          "model_name": "HBoxModel",
          "state": {
            "_view_name": "HBoxView",
            "_dom_classes": [],
            "_model_name": "HBoxModel",
            "_view_module": "@jupyter-widgets/controls",
            "_model_module_version": "1.5.0",
            "_view_count": null,
            "_view_module_version": "1.5.0",
            "box_style": "",
            "layout": "IPY_MODEL_f25bbb2cb3a146df9f270fa3e7612a8e",
            "_model_module": "@jupyter-widgets/controls",
            "children": [
              "IPY_MODEL_a25ee80e7a71439997964f5e835343e1",
              "IPY_MODEL_a0b435b7fd534a1eb89ceffd8eca41b3"
            ]
          }
        },
        "f25bbb2cb3a146df9f270fa3e7612a8e": {
          "model_module": "@jupyter-widgets/base",
          "model_name": "LayoutModel",
          "state": {
            "_view_name": "LayoutView",
            "grid_template_rows": null,
            "right": null,
            "justify_content": null,
            "_view_module": "@jupyter-widgets/base",
            "overflow": null,
            "_model_module_version": "1.2.0",
            "_view_count": null,
            "flex_flow": null,
            "width": null,
            "min_width": null,
            "border": null,
            "align_items": null,
            "bottom": null,
            "_model_module": "@jupyter-widgets/base",
            "top": null,
            "grid_column": null,
            "overflow_y": null,
            "overflow_x": null,
            "grid_auto_flow": null,
            "grid_area": null,
            "grid_template_columns": null,
            "flex": null,
            "_model_name": "LayoutModel",
            "justify_items": null,
            "grid_row": null,
            "max_height": null,
            "align_content": null,
            "visibility": null,
            "align_self": null,
            "height": null,
            "min_height": null,
            "padding": null,
            "grid_auto_rows": null,
            "grid_gap": null,
            "max_width": null,
            "order": null,
            "_view_module_version": "1.2.0",
            "grid_template_areas": null,
            "object_position": null,
            "object_fit": null,
            "grid_auto_columns": null,
            "margin": null,
            "display": null,
            "left": null
          }
        },
        "a25ee80e7a71439997964f5e835343e1": {
          "model_module": "@jupyter-widgets/controls",
          "model_name": "IntProgressModel",
          "state": {
            "_view_name": "ProgressView",
            "style": "IPY_MODEL_8f1003afc26648f28652f6b04cf53a21",
            "_dom_classes": [],
            "description": "",
            "_model_name": "IntProgressModel",
            "bar_style": "info",
            "max": 1,
            "_view_module": "@jupyter-widgets/controls",
            "_model_module_version": "1.5.0",
            "value": 1,
            "_view_count": null,
            "_view_module_version": "1.5.0",
            "orientation": "horizontal",
            "min": 0,
            "description_tooltip": null,
            "_model_module": "@jupyter-widgets/controls",
            "layout": "IPY_MODEL_0fcde063ddea4a92b4e4dbe99cbe40c3"
          }
        },
        "a0b435b7fd534a1eb89ceffd8eca41b3": {
          "model_module": "@jupyter-widgets/controls",
          "model_name": "HTMLModel",
          "state": {
            "_view_name": "HTMLView",
            "style": "IPY_MODEL_52544f6d49e841f9bc3c78a0847d5e8d",
            "_dom_classes": [],
            "description": "",
            "_model_name": "HTMLModel",
            "placeholder": "​",
            "_view_module": "@jupyter-widgets/controls",
            "_model_module_version": "1.5.0",
            "value": " 1193/0 [00:00&lt;00:00, 2025.33 examples/s]",
            "_view_count": null,
            "_view_module_version": "1.5.0",
            "description_tooltip": null,
            "_model_module": "@jupyter-widgets/controls",
            "layout": "IPY_MODEL_2de08a2f6cf64fcdad2a7051ec3d72c3"
          }
        },
        "8f1003afc26648f28652f6b04cf53a21": {
          "model_module": "@jupyter-widgets/controls",
          "model_name": "ProgressStyleModel",
          "state": {
            "_view_name": "StyleView",
            "_model_name": "ProgressStyleModel",
            "description_width": "initial",
            "_view_module": "@jupyter-widgets/base",
            "_model_module_version": "1.5.0",
            "_view_count": null,
            "_view_module_version": "1.2.0",
            "bar_color": null,
            "_model_module": "@jupyter-widgets/controls"
          }
        },
        "0fcde063ddea4a92b4e4dbe99cbe40c3": {
          "model_module": "@jupyter-widgets/base",
          "model_name": "LayoutModel",
          "state": {
            "_view_name": "LayoutView",
            "grid_template_rows": null,
            "right": null,
            "justify_content": null,
            "_view_module": "@jupyter-widgets/base",
            "overflow": null,
            "_model_module_version": "1.2.0",
            "_view_count": null,
            "flex_flow": null,
            "width": null,
            "min_width": null,
            "border": null,
            "align_items": null,
            "bottom": null,
            "_model_module": "@jupyter-widgets/base",
            "top": null,
            "grid_column": null,
            "overflow_y": null,
            "overflow_x": null,
            "grid_auto_flow": null,
            "grid_area": null,
            "grid_template_columns": null,
            "flex": null,
            "_model_name": "LayoutModel",
            "justify_items": null,
            "grid_row": null,
            "max_height": null,
            "align_content": null,
            "visibility": null,
            "align_self": null,
            "height": null,
            "min_height": null,
            "padding": null,
            "grid_auto_rows": null,
            "grid_gap": null,
            "max_width": null,
            "order": null,
            "_view_module_version": "1.2.0",
            "grid_template_areas": null,
            "object_position": null,
            "object_fit": null,
            "grid_auto_columns": null,
            "margin": null,
            "display": null,
            "left": null
          }
        },
        "52544f6d49e841f9bc3c78a0847d5e8d": {
          "model_module": "@jupyter-widgets/controls",
          "model_name": "DescriptionStyleModel",
          "state": {
            "_view_name": "StyleView",
            "_model_name": "DescriptionStyleModel",
            "description_width": "",
            "_view_module": "@jupyter-widgets/base",
            "_model_module_version": "1.5.0",
            "_view_count": null,
            "_view_module_version": "1.2.0",
            "_model_module": "@jupyter-widgets/controls"
          }
        },
        "2de08a2f6cf64fcdad2a7051ec3d72c3": {
          "model_module": "@jupyter-widgets/base",
          "model_name": "LayoutModel",
          "state": {
            "_view_name": "LayoutView",
            "grid_template_rows": null,
            "right": null,
            "justify_content": null,
            "_view_module": "@jupyter-widgets/base",
            "overflow": null,
            "_model_module_version": "1.2.0",
            "_view_count": null,
            "flex_flow": null,
            "width": null,
            "min_width": null,
            "border": null,
            "align_items": null,
            "bottom": null,
            "_model_module": "@jupyter-widgets/base",
            "top": null,
            "grid_column": null,
            "overflow_y": null,
            "overflow_x": null,
            "grid_auto_flow": null,
            "grid_area": null,
            "grid_template_columns": null,
            "flex": null,
            "_model_name": "LayoutModel",
            "justify_items": null,
            "grid_row": null,
            "max_height": null,
            "align_content": null,
            "visibility": null,
            "align_self": null,
            "height": null,
            "min_height": null,
            "padding": null,
            "grid_auto_rows": null,
            "grid_gap": null,
            "max_width": null,
            "order": null,
            "_view_module_version": "1.2.0",
            "grid_template_areas": null,
            "object_position": null,
            "object_fit": null,
            "grid_auto_columns": null,
            "margin": null,
            "display": null,
            "left": null
          }
        },
        "3a26d10e1aa34518941773dfdb5ae4f5": {
          "model_module": "@jupyter-widgets/controls",
          "model_name": "HBoxModel",
          "state": {
            "_view_name": "HBoxView",
            "_dom_classes": [],
            "_model_name": "HBoxModel",
            "_view_module": "@jupyter-widgets/controls",
            "_model_module_version": "1.5.0",
            "_view_count": null,
            "_view_module_version": "1.5.0",
            "box_style": "",
            "layout": "IPY_MODEL_aea3c902c7c04eb696e1ce1af440a172",
            "_model_module": "@jupyter-widgets/controls",
            "children": [
              "IPY_MODEL_1863e05394ed4a47bd488fbb3b8d9e86",
              "IPY_MODEL_e5819b8efc27496489584354f660f20c"
            ]
          }
        },
        "aea3c902c7c04eb696e1ce1af440a172": {
          "model_module": "@jupyter-widgets/base",
          "model_name": "LayoutModel",
          "state": {
            "_view_name": "LayoutView",
            "grid_template_rows": null,
            "right": null,
            "justify_content": null,
            "_view_module": "@jupyter-widgets/base",
            "overflow": null,
            "_model_module_version": "1.2.0",
            "_view_count": null,
            "flex_flow": null,
            "width": null,
            "min_width": null,
            "border": null,
            "align_items": null,
            "bottom": null,
            "_model_module": "@jupyter-widgets/base",
            "top": null,
            "grid_column": null,
            "overflow_y": null,
            "overflow_x": null,
            "grid_auto_flow": null,
            "grid_area": null,
            "grid_template_columns": null,
            "flex": null,
            "_model_name": "LayoutModel",
            "justify_items": null,
            "grid_row": null,
            "max_height": null,
            "align_content": null,
            "visibility": null,
            "align_self": null,
            "height": null,
            "min_height": null,
            "padding": null,
            "grid_auto_rows": null,
            "grid_gap": null,
            "max_width": null,
            "order": null,
            "_view_module_version": "1.2.0",
            "grid_template_areas": null,
            "object_position": null,
            "object_fit": null,
            "grid_auto_columns": null,
            "margin": null,
            "display": null,
            "left": null
          }
        },
        "1863e05394ed4a47bd488fbb3b8d9e86": {
          "model_module": "@jupyter-widgets/controls",
          "model_name": "IntProgressModel",
          "state": {
            "_view_name": "ProgressView",
            "style": "IPY_MODEL_797468329f3946828491f558fe253e6b",
            "_dom_classes": [],
            "description": "  0%",
            "_model_name": "IntProgressModel",
            "bar_style": "danger",
            "max": 1193,
            "_view_module": "@jupyter-widgets/controls",
            "_model_module_version": "1.5.0",
            "value": 0,
            "_view_count": null,
            "_view_module_version": "1.5.0",
            "orientation": "horizontal",
            "min": 0,
            "description_tooltip": null,
            "_model_module": "@jupyter-widgets/controls",
            "layout": "IPY_MODEL_8314e31c4985440a96b5afdf027adf9c"
          }
        },
        "e5819b8efc27496489584354f660f20c": {
          "model_module": "@jupyter-widgets/controls",
          "model_name": "HTMLModel",
          "state": {
            "_view_name": "HTMLView",
            "style": "IPY_MODEL_3ab27b662ad8426bb56707380092bcc9",
            "_dom_classes": [],
            "description": "",
            "_model_name": "HTMLModel",
            "placeholder": "​",
            "_view_module": "@jupyter-widgets/controls",
            "_model_module_version": "1.5.0",
            "value": " 0/1193 [00:00&lt;?, ? examples/s]",
            "_view_count": null,
            "_view_module_version": "1.5.0",
            "description_tooltip": null,
            "_model_module": "@jupyter-widgets/controls",
            "layout": "IPY_MODEL_6b776dd39eaf41eb95292aa6d4aa608c"
          }
        },
        "797468329f3946828491f558fe253e6b": {
          "model_module": "@jupyter-widgets/controls",
          "model_name": "ProgressStyleModel",
          "state": {
            "_view_name": "StyleView",
            "_model_name": "ProgressStyleModel",
            "description_width": "initial",
            "_view_module": "@jupyter-widgets/base",
            "_model_module_version": "1.5.0",
            "_view_count": null,
            "_view_module_version": "1.2.0",
            "bar_color": null,
            "_model_module": "@jupyter-widgets/controls"
          }
        },
        "8314e31c4985440a96b5afdf027adf9c": {
          "model_module": "@jupyter-widgets/base",
          "model_name": "LayoutModel",
          "state": {
            "_view_name": "LayoutView",
            "grid_template_rows": null,
            "right": null,
            "justify_content": null,
            "_view_module": "@jupyter-widgets/base",
            "overflow": null,
            "_model_module_version": "1.2.0",
            "_view_count": null,
            "flex_flow": null,
            "width": null,
            "min_width": null,
            "border": null,
            "align_items": null,
            "bottom": null,
            "_model_module": "@jupyter-widgets/base",
            "top": null,
            "grid_column": null,
            "overflow_y": null,
            "overflow_x": null,
            "grid_auto_flow": null,
            "grid_area": null,
            "grid_template_columns": null,
            "flex": null,
            "_model_name": "LayoutModel",
            "justify_items": null,
            "grid_row": null,
            "max_height": null,
            "align_content": null,
            "visibility": null,
            "align_self": null,
            "height": null,
            "min_height": null,
            "padding": null,
            "grid_auto_rows": null,
            "grid_gap": null,
            "max_width": null,
            "order": null,
            "_view_module_version": "1.2.0",
            "grid_template_areas": null,
            "object_position": null,
            "object_fit": null,
            "grid_auto_columns": null,
            "margin": null,
            "display": null,
            "left": null
          }
        },
        "3ab27b662ad8426bb56707380092bcc9": {
          "model_module": "@jupyter-widgets/controls",
          "model_name": "DescriptionStyleModel",
          "state": {
            "_view_name": "StyleView",
            "_model_name": "DescriptionStyleModel",
            "description_width": "",
            "_view_module": "@jupyter-widgets/base",
            "_model_module_version": "1.5.0",
            "_view_count": null,
            "_view_module_version": "1.2.0",
            "_model_module": "@jupyter-widgets/controls"
          }
        },
        "6b776dd39eaf41eb95292aa6d4aa608c": {
          "model_module": "@jupyter-widgets/base",
          "model_name": "LayoutModel",
          "state": {
            "_view_name": "LayoutView",
            "grid_template_rows": null,
            "right": null,
            "justify_content": null,
            "_view_module": "@jupyter-widgets/base",
            "overflow": null,
            "_model_module_version": "1.2.0",
            "_view_count": null,
            "flex_flow": null,
            "width": null,
            "min_width": null,
            "border": null,
            "align_items": null,
            "bottom": null,
            "_model_module": "@jupyter-widgets/base",
            "top": null,
            "grid_column": null,
            "overflow_y": null,
            "overflow_x": null,
            "grid_auto_flow": null,
            "grid_area": null,
            "grid_template_columns": null,
            "flex": null,
            "_model_name": "LayoutModel",
            "justify_items": null,
            "grid_row": null,
            "max_height": null,
            "align_content": null,
            "visibility": null,
            "align_self": null,
            "height": null,
            "min_height": null,
            "padding": null,
            "grid_auto_rows": null,
            "grid_gap": null,
            "max_width": null,
            "order": null,
            "_view_module_version": "1.2.0",
            "grid_template_areas": null,
            "object_position": null,
            "object_fit": null,
            "grid_auto_columns": null,
            "margin": null,
            "display": null,
            "left": null
          }
        },
        "6c6040c5774a40a896f8146ed224abe7": {
          "model_module": "@jupyter-widgets/controls",
          "model_name": "HBoxModel",
          "state": {
            "_view_name": "HBoxView",
            "_dom_classes": [],
            "_model_name": "HBoxModel",
            "_view_module": "@jupyter-widgets/controls",
            "_model_module_version": "1.5.0",
            "_view_count": null,
            "_view_module_version": "1.5.0",
            "box_style": "",
            "layout": "IPY_MODEL_2f18a13dc8ea4db2b0db682a2b776777",
            "_model_module": "@jupyter-widgets/controls",
            "children": [
              "IPY_MODEL_952ab986a8ee4815bb374a7f5da06e97",
              "IPY_MODEL_83431afc2abd4e0d90d67bbdb3471e31"
            ]
          }
        },
        "2f18a13dc8ea4db2b0db682a2b776777": {
          "model_module": "@jupyter-widgets/base",
          "model_name": "LayoutModel",
          "state": {
            "_view_name": "LayoutView",
            "grid_template_rows": null,
            "right": null,
            "justify_content": null,
            "_view_module": "@jupyter-widgets/base",
            "overflow": null,
            "_model_module_version": "1.2.0",
            "_view_count": null,
            "flex_flow": null,
            "width": null,
            "min_width": null,
            "border": null,
            "align_items": null,
            "bottom": null,
            "_model_module": "@jupyter-widgets/base",
            "top": null,
            "grid_column": null,
            "overflow_y": null,
            "overflow_x": null,
            "grid_auto_flow": null,
            "grid_area": null,
            "grid_template_columns": null,
            "flex": null,
            "_model_name": "LayoutModel",
            "justify_items": null,
            "grid_row": null,
            "max_height": null,
            "align_content": null,
            "visibility": null,
            "align_self": null,
            "height": null,
            "min_height": null,
            "padding": null,
            "grid_auto_rows": null,
            "grid_gap": null,
            "max_width": null,
            "order": null,
            "_view_module_version": "1.2.0",
            "grid_template_areas": null,
            "object_position": null,
            "object_fit": null,
            "grid_auto_columns": null,
            "margin": null,
            "display": null,
            "left": null
          }
        },
        "952ab986a8ee4815bb374a7f5da06e97": {
          "model_module": "@jupyter-widgets/controls",
          "model_name": "IntProgressModel",
          "state": {
            "_view_name": "ProgressView",
            "style": "IPY_MODEL_c3fab2d8dc0b4839951f43417f7c030d",
            "_dom_classes": [],
            "description": "",
            "_model_name": "IntProgressModel",
            "bar_style": "info",
            "max": 1,
            "_view_module": "@jupyter-widgets/controls",
            "_model_module_version": "1.5.0",
            "value": 1,
            "_view_count": null,
            "_view_module_version": "1.5.0",
            "orientation": "horizontal",
            "min": 0,
            "description_tooltip": null,
            "_model_module": "@jupyter-widgets/controls",
            "layout": "IPY_MODEL_6d3b8d1115b44028ade7709f2df5817c"
          }
        },
        "83431afc2abd4e0d90d67bbdb3471e31": {
          "model_module": "@jupyter-widgets/controls",
          "model_name": "HTMLModel",
          "state": {
            "_view_name": "HTMLView",
            "style": "IPY_MODEL_ffef1ba966de4a7797fb7009c477ebb7",
            "_dom_classes": [],
            "description": "",
            "_model_name": "HTMLModel",
            "placeholder": "​",
            "_view_module": "@jupyter-widgets/controls",
            "_model_module_version": "1.5.0",
            "value": " 1803/0 [00:00&lt;00:00, 2534.46 examples/s]",
            "_view_count": null,
            "_view_module_version": "1.5.0",
            "description_tooltip": null,
            "_model_module": "@jupyter-widgets/controls",
            "layout": "IPY_MODEL_51ef1619bf9a4dd3a851ac0d94151912"
          }
        },
        "c3fab2d8dc0b4839951f43417f7c030d": {
          "model_module": "@jupyter-widgets/controls",
          "model_name": "ProgressStyleModel",
          "state": {
            "_view_name": "StyleView",
            "_model_name": "ProgressStyleModel",
            "description_width": "initial",
            "_view_module": "@jupyter-widgets/base",
            "_model_module_version": "1.5.0",
            "_view_count": null,
            "_view_module_version": "1.2.0",
            "bar_color": null,
            "_model_module": "@jupyter-widgets/controls"
          }
        },
        "6d3b8d1115b44028ade7709f2df5817c": {
          "model_module": "@jupyter-widgets/base",
          "model_name": "LayoutModel",
          "state": {
            "_view_name": "LayoutView",
            "grid_template_rows": null,
            "right": null,
            "justify_content": null,
            "_view_module": "@jupyter-widgets/base",
            "overflow": null,
            "_model_module_version": "1.2.0",
            "_view_count": null,
            "flex_flow": null,
            "width": null,
            "min_width": null,
            "border": null,
            "align_items": null,
            "bottom": null,
            "_model_module": "@jupyter-widgets/base",
            "top": null,
            "grid_column": null,
            "overflow_y": null,
            "overflow_x": null,
            "grid_auto_flow": null,
            "grid_area": null,
            "grid_template_columns": null,
            "flex": null,
            "_model_name": "LayoutModel",
            "justify_items": null,
            "grid_row": null,
            "max_height": null,
            "align_content": null,
            "visibility": null,
            "align_self": null,
            "height": null,
            "min_height": null,
            "padding": null,
            "grid_auto_rows": null,
            "grid_gap": null,
            "max_width": null,
            "order": null,
            "_view_module_version": "1.2.0",
            "grid_template_areas": null,
            "object_position": null,
            "object_fit": null,
            "grid_auto_columns": null,
            "margin": null,
            "display": null,
            "left": null
          }
        },
        "ffef1ba966de4a7797fb7009c477ebb7": {
          "model_module": "@jupyter-widgets/controls",
          "model_name": "DescriptionStyleModel",
          "state": {
            "_view_name": "StyleView",
            "_model_name": "DescriptionStyleModel",
            "description_width": "",
            "_view_module": "@jupyter-widgets/base",
            "_model_module_version": "1.5.0",
            "_view_count": null,
            "_view_module_version": "1.2.0",
            "_model_module": "@jupyter-widgets/controls"
          }
        },
        "51ef1619bf9a4dd3a851ac0d94151912": {
          "model_module": "@jupyter-widgets/base",
          "model_name": "LayoutModel",
          "state": {
            "_view_name": "LayoutView",
            "grid_template_rows": null,
            "right": null,
            "justify_content": null,
            "_view_module": "@jupyter-widgets/base",
            "overflow": null,
            "_model_module_version": "1.2.0",
            "_view_count": null,
            "flex_flow": null,
            "width": null,
            "min_width": null,
            "border": null,
            "align_items": null,
            "bottom": null,
            "_model_module": "@jupyter-widgets/base",
            "top": null,
            "grid_column": null,
            "overflow_y": null,
            "overflow_x": null,
            "grid_auto_flow": null,
            "grid_area": null,
            "grid_template_columns": null,
            "flex": null,
            "_model_name": "LayoutModel",
            "justify_items": null,
            "grid_row": null,
            "max_height": null,
            "align_content": null,
            "visibility": null,
            "align_self": null,
            "height": null,
            "min_height": null,
            "padding": null,
            "grid_auto_rows": null,
            "grid_gap": null,
            "max_width": null,
            "order": null,
            "_view_module_version": "1.2.0",
            "grid_template_areas": null,
            "object_position": null,
            "object_fit": null,
            "grid_auto_columns": null,
            "margin": null,
            "display": null,
            "left": null
          }
        },
        "56e174bd6dc641eaade30db8ce1734a0": {
          "model_module": "@jupyter-widgets/controls",
          "model_name": "HBoxModel",
          "state": {
            "_view_name": "HBoxView",
            "_dom_classes": [],
            "_model_name": "HBoxModel",
            "_view_module": "@jupyter-widgets/controls",
            "_model_module_version": "1.5.0",
            "_view_count": null,
            "_view_module_version": "1.5.0",
            "box_style": "",
            "layout": "IPY_MODEL_bd8eb0e9d03f4cc4bd46600b96b61341",
            "_model_module": "@jupyter-widgets/controls",
            "children": [
              "IPY_MODEL_a115737f7df341919753839c857ebb8f",
              "IPY_MODEL_06dab106465845c8ac81dcc4d0dc3d58"
            ]
          }
        },
        "bd8eb0e9d03f4cc4bd46600b96b61341": {
          "model_module": "@jupyter-widgets/base",
          "model_name": "LayoutModel",
          "state": {
            "_view_name": "LayoutView",
            "grid_template_rows": null,
            "right": null,
            "justify_content": null,
            "_view_module": "@jupyter-widgets/base",
            "overflow": null,
            "_model_module_version": "1.2.0",
            "_view_count": null,
            "flex_flow": null,
            "width": null,
            "min_width": null,
            "border": null,
            "align_items": null,
            "bottom": null,
            "_model_module": "@jupyter-widgets/base",
            "top": null,
            "grid_column": null,
            "overflow_y": null,
            "overflow_x": null,
            "grid_auto_flow": null,
            "grid_area": null,
            "grid_template_columns": null,
            "flex": null,
            "_model_name": "LayoutModel",
            "justify_items": null,
            "grid_row": null,
            "max_height": null,
            "align_content": null,
            "visibility": null,
            "align_self": null,
            "height": null,
            "min_height": null,
            "padding": null,
            "grid_auto_rows": null,
            "grid_gap": null,
            "max_width": null,
            "order": null,
            "_view_module_version": "1.2.0",
            "grid_template_areas": null,
            "object_position": null,
            "object_fit": null,
            "grid_auto_columns": null,
            "margin": null,
            "display": null,
            "left": null
          }
        },
        "a115737f7df341919753839c857ebb8f": {
          "model_module": "@jupyter-widgets/controls",
          "model_name": "IntProgressModel",
          "state": {
            "_view_name": "ProgressView",
            "style": "IPY_MODEL_d3f2f4c18dd24828bfc09bf5a2e5094a",
            "_dom_classes": [],
            "description": "  0%",
            "_model_name": "IntProgressModel",
            "bar_style": "danger",
            "max": 1803,
            "_view_module": "@jupyter-widgets/controls",
            "_model_module_version": "1.5.0",
            "value": 0,
            "_view_count": null,
            "_view_module_version": "1.5.0",
            "orientation": "horizontal",
            "min": 0,
            "description_tooltip": null,
            "_model_module": "@jupyter-widgets/controls",
            "layout": "IPY_MODEL_e40cc3f109fc4bb69947eb1619e34198"
          }
        },
        "06dab106465845c8ac81dcc4d0dc3d58": {
          "model_module": "@jupyter-widgets/controls",
          "model_name": "HTMLModel",
          "state": {
            "_view_name": "HTMLView",
            "style": "IPY_MODEL_ef73680e7eb44bd99d69da7efddf9115",
            "_dom_classes": [],
            "description": "",
            "_model_name": "HTMLModel",
            "placeholder": "​",
            "_view_module": "@jupyter-widgets/controls",
            "_model_module_version": "1.5.0",
            "value": " 0/1803 [00:06&lt;?, ? examples/s]",
            "_view_count": null,
            "_view_module_version": "1.5.0",
            "description_tooltip": null,
            "_model_module": "@jupyter-widgets/controls",
            "layout": "IPY_MODEL_29b53a0774184239b941f07bdc7f28a8"
          }
        },
        "d3f2f4c18dd24828bfc09bf5a2e5094a": {
          "model_module": "@jupyter-widgets/controls",
          "model_name": "ProgressStyleModel",
          "state": {
            "_view_name": "StyleView",
            "_model_name": "ProgressStyleModel",
            "description_width": "initial",
            "_view_module": "@jupyter-widgets/base",
            "_model_module_version": "1.5.0",
            "_view_count": null,
            "_view_module_version": "1.2.0",
            "bar_color": null,
            "_model_module": "@jupyter-widgets/controls"
          }
        },
        "e40cc3f109fc4bb69947eb1619e34198": {
          "model_module": "@jupyter-widgets/base",
          "model_name": "LayoutModel",
          "state": {
            "_view_name": "LayoutView",
            "grid_template_rows": null,
            "right": null,
            "justify_content": null,
            "_view_module": "@jupyter-widgets/base",
            "overflow": null,
            "_model_module_version": "1.2.0",
            "_view_count": null,
            "flex_flow": null,
            "width": null,
            "min_width": null,
            "border": null,
            "align_items": null,
            "bottom": null,
            "_model_module": "@jupyter-widgets/base",
            "top": null,
            "grid_column": null,
            "overflow_y": null,
            "overflow_x": null,
            "grid_auto_flow": null,
            "grid_area": null,
            "grid_template_columns": null,
            "flex": null,
            "_model_name": "LayoutModel",
            "justify_items": null,
            "grid_row": null,
            "max_height": null,
            "align_content": null,
            "visibility": null,
            "align_self": null,
            "height": null,
            "min_height": null,
            "padding": null,
            "grid_auto_rows": null,
            "grid_gap": null,
            "max_width": null,
            "order": null,
            "_view_module_version": "1.2.0",
            "grid_template_areas": null,
            "object_position": null,
            "object_fit": null,
            "grid_auto_columns": null,
            "margin": null,
            "display": null,
            "left": null
          }
        },
        "ef73680e7eb44bd99d69da7efddf9115": {
          "model_module": "@jupyter-widgets/controls",
          "model_name": "DescriptionStyleModel",
          "state": {
            "_view_name": "StyleView",
            "_model_name": "DescriptionStyleModel",
            "description_width": "",
            "_view_module": "@jupyter-widgets/base",
            "_model_module_version": "1.5.0",
            "_view_count": null,
            "_view_module_version": "1.2.0",
            "_model_module": "@jupyter-widgets/controls"
          }
        },
        "29b53a0774184239b941f07bdc7f28a8": {
          "model_module": "@jupyter-widgets/base",
          "model_name": "LayoutModel",
          "state": {
            "_view_name": "LayoutView",
            "grid_template_rows": null,
            "right": null,
            "justify_content": null,
            "_view_module": "@jupyter-widgets/base",
            "overflow": null,
            "_model_module_version": "1.2.0",
            "_view_count": null,
            "flex_flow": null,
            "width": null,
            "min_width": null,
            "border": null,
            "align_items": null,
            "bottom": null,
            "_model_module": "@jupyter-widgets/base",
            "top": null,
            "grid_column": null,
            "overflow_y": null,
            "overflow_x": null,
            "grid_auto_flow": null,
            "grid_area": null,
            "grid_template_columns": null,
            "flex": null,
            "_model_name": "LayoutModel",
            "justify_items": null,
            "grid_row": null,
            "max_height": null,
            "align_content": null,
            "visibility": null,
            "align_self": null,
            "height": null,
            "min_height": null,
            "padding": null,
            "grid_auto_rows": null,
            "grid_gap": null,
            "max_width": null,
            "order": null,
            "_view_module_version": "1.2.0",
            "grid_template_areas": null,
            "object_position": null,
            "object_fit": null,
            "grid_auto_columns": null,
            "margin": null,
            "display": null,
            "left": null
          }
        }
      }
    }
  },
  "cells": [
    {
      "cell_type": "code",
      "metadata": {
        "id": "aTZnNv5KGDuB",
        "colab_type": "code",
        "colab": {}
      },
      "source": [
        "%tensorflow_version 2.x"
      ],
      "execution_count": 0,
      "outputs": []
    },
    {
      "cell_type": "code",
      "metadata": {
        "id": "6c6KcHxCGeev",
        "colab_type": "code",
        "colab": {}
      },
      "source": [
        "import tensorflow_datasets as tfds\n",
        "import tensorflow as tf\n",
        "\n",
        "import time\n",
        "import numpy as np\n",
        "import matplotlib.pyplot as plt"
      ],
      "execution_count": 0,
      "outputs": []
    },
    {
      "cell_type": "markdown",
      "metadata": {
        "id": "7JEa76iIRu8U",
        "colab_type": "text"
      },
      "source": [
        "# Input Pipeline"
      ]
    },
    {
      "cell_type": "code",
      "metadata": {
        "id": "_wMI3IRmGiTL",
        "colab_type": "code",
        "outputId": "ec0268ca-77e9-4bee-adee-f5280cb343b8",
        "colab": {
          "base_uri": "https://localhost:8080/",
          "height": 420,
          "referenced_widgets": [
            "58ea6800f38b4e4abf87d3185cb2a5c8",
            "fdf6f0fbe2c5407cba96d3af3b701793",
            "1de13f054971468d9b71a5a36cb5be79",
            "3322274b727c4638b3b48d4729c6c866",
            "732ca9d8a40e4ddda5c4cf1c3e2b4b92",
            "3cea0fe0f10b4dd39e0bb47c6a2f7e4a",
            "00af2f411a50433d8d7e740a0b2e3ea7",
            "1fbab534f0fe4f89a65bef9a1f9806ae",
            "60ea79bfb88d4d49a46f6a41aefa7846",
            "eefc08044f6c4a9e9a212848dc8d8acd",
            "58251b970a23406db29179e6b3b0785d",
            "b5feb0e78d32488694daaa67d44bbbb2",
            "c7cade1c73e94d8eba46c28ca0b5b8ce",
            "8f004dcfd7954538890424b889b9d407",
            "2925e250133d4403b7fb06fc31548750",
            "f0374cb7b42c436a96e9465f13bc65cb",
            "0ccc06b4a8224d43a14bb9ab9357b6e8",
            "918c8899e5a34843872c09c2cac4682c",
            "370a16f0410a4fa3ac59453e9913e93e",
            "70f2ab1c53734120809642d809b5046a",
            "f2cae9b1ddc14eb29b5b6539a6028c0e",
            "01761553b27e4913a4153017f3a01402",
            "98dcbecf531d4015951b31946c91b00f",
            "e39bd3580bf34115aa700fdb34de9930",
            "38bba11016ee4d35a2b7073a1fc404b7",
            "5c6d109dcc45418abab9cbd3a4a3ab45",
            "a2f16576e560437d84f7c0a176cbb507",
            "9e801a8ecd84423faa05e06d31312282",
            "a7c37609513d4f478c2cf2703e6181b8",
            "5d9c354389f14ee19f942c85b3879b4b",
            "d3693a228bb34216a8ceb1c4df741020",
            "f01cc936198f4da3b371eaade8e7d947",
            "6229935f2ae74deb80c4dd2b9807204d",
            "1ea498c412fa49909b2dc6df9fb0e657",
            "29da6075697447fb886f26b210de6920",
            "3f930261274f4bdc8bbe80d6f92d3145",
            "c9cf4f8586bb4df39d785ff608751617",
            "7c8701fa9b5b4e1abcc91514d6a6790a",
            "ccbd44df515841b698043466a853851e",
            "f7d6f86ca55843068f7364484f806fe0",
            "9612b38cb80f45f99b25450e519bf8f3",
            "f25bbb2cb3a146df9f270fa3e7612a8e",
            "a25ee80e7a71439997964f5e835343e1",
            "a0b435b7fd534a1eb89ceffd8eca41b3",
            "8f1003afc26648f28652f6b04cf53a21",
            "0fcde063ddea4a92b4e4dbe99cbe40c3",
            "52544f6d49e841f9bc3c78a0847d5e8d",
            "2de08a2f6cf64fcdad2a7051ec3d72c3",
            "3a26d10e1aa34518941773dfdb5ae4f5",
            "aea3c902c7c04eb696e1ce1af440a172",
            "1863e05394ed4a47bd488fbb3b8d9e86",
            "e5819b8efc27496489584354f660f20c",
            "797468329f3946828491f558fe253e6b",
            "8314e31c4985440a96b5afdf027adf9c",
            "3ab27b662ad8426bb56707380092bcc9",
            "6b776dd39eaf41eb95292aa6d4aa608c",
            "6c6040c5774a40a896f8146ed224abe7",
            "2f18a13dc8ea4db2b0db682a2b776777",
            "952ab986a8ee4815bb374a7f5da06e97",
            "83431afc2abd4e0d90d67bbdb3471e31",
            "c3fab2d8dc0b4839951f43417f7c030d",
            "6d3b8d1115b44028ade7709f2df5817c",
            "ffef1ba966de4a7797fb7009c477ebb7",
            "51ef1619bf9a4dd3a851ac0d94151912",
            "56e174bd6dc641eaade30db8ce1734a0",
            "bd8eb0e9d03f4cc4bd46600b96b61341",
            "a115737f7df341919753839c857ebb8f",
            "06dab106465845c8ac81dcc4d0dc3d58",
            "d3f2f4c18dd24828bfc09bf5a2e5094a",
            "e40cc3f109fc4bb69947eb1619e34198",
            "ef73680e7eb44bd99d69da7efddf9115",
            "29b53a0774184239b941f07bdc7f28a8"
          ]
        }
      },
      "source": [
        "examples, metadata = tfds.load('ted_hrlr_translate/pt_to_en', with_info=True, as_supervised=True)\n",
        "train_examples, val_examples = examples['train'], examples['validation']"
      ],
      "execution_count": 0,
      "outputs": [
        {
          "output_type": "stream",
          "text": [
            "\u001b[1mDownloading and preparing dataset ted_hrlr_translate/pt_to_en/1.0.0 (download: 124.94 MiB, generated: Unknown size, total: 124.94 MiB) to /root/tensorflow_datasets/ted_hrlr_translate/pt_to_en/1.0.0...\u001b[0m\n"
          ],
          "name": "stdout"
        },
        {
          "output_type": "display_data",
          "data": {
            "application/vnd.jupyter.widget-view+json": {
              "model_id": "58ea6800f38b4e4abf87d3185cb2a5c8",
              "version_minor": 0,
              "version_major": 2
            },
            "text/plain": [
              "HBox(children=(IntProgress(value=1, bar_style='info', description='Dl Completed...', max=1, style=ProgressStyl…"
            ]
          },
          "metadata": {
            "tags": []
          }
        },
        {
          "output_type": "display_data",
          "data": {
            "application/vnd.jupyter.widget-view+json": {
              "model_id": "60ea79bfb88d4d49a46f6a41aefa7846",
              "version_minor": 0,
              "version_major": 2
            },
            "text/plain": [
              "HBox(children=(IntProgress(value=1, bar_style='info', description='Dl Size...', max=1, style=ProgressStyle(des…"
            ]
          },
          "metadata": {
            "tags": []
          }
        },
        {
          "output_type": "display_data",
          "data": {
            "application/vnd.jupyter.widget-view+json": {
              "model_id": "0ccc06b4a8224d43a14bb9ab9357b6e8",
              "version_minor": 0,
              "version_major": 2
            },
            "text/plain": [
              "HBox(children=(IntProgress(value=1, bar_style='info', description='Extraction completed...', max=1, style=Prog…"
            ]
          },
          "metadata": {
            "tags": []
          }
        },
        {
          "output_type": "stream",
          "text": [
            "\n",
            "\n",
            "\n",
            "\n",
            "\n",
            "\n"
          ],
          "name": "stdout"
        },
        {
          "output_type": "display_data",
          "data": {
            "application/vnd.jupyter.widget-view+json": {
              "model_id": "38bba11016ee4d35a2b7073a1fc404b7",
              "version_minor": 0,
              "version_major": 2
            },
            "text/plain": [
              "HBox(children=(IntProgress(value=1, bar_style='info', max=1), HTML(value='')))"
            ]
          },
          "metadata": {
            "tags": []
          }
        },
        {
          "output_type": "stream",
          "text": [
            "\rShuffling and writing examples to /root/tensorflow_datasets/ted_hrlr_translate/pt_to_en/1.0.0.incompleteARQSMH/ted_hrlr_translate-train.tfrecord\n"
          ],
          "name": "stdout"
        },
        {
          "output_type": "display_data",
          "data": {
            "application/vnd.jupyter.widget-view+json": {
              "model_id": "6229935f2ae74deb80c4dd2b9807204d",
              "version_minor": 0,
              "version_major": 2
            },
            "text/plain": [
              "HBox(children=(IntProgress(value=0, max=51785), HTML(value='')))"
            ]
          },
          "metadata": {
            "tags": []
          }
        },
        {
          "output_type": "stream",
          "text": [
            "\r"
          ],
          "name": "stdout"
        },
        {
          "output_type": "display_data",
          "data": {
            "application/vnd.jupyter.widget-view+json": {
              "model_id": "9612b38cb80f45f99b25450e519bf8f3",
              "version_minor": 0,
              "version_major": 2
            },
            "text/plain": [
              "HBox(children=(IntProgress(value=1, bar_style='info', max=1), HTML(value='')))"
            ]
          },
          "metadata": {
            "tags": []
          }
        },
        {
          "output_type": "stream",
          "text": [
            "\rShuffling and writing examples to /root/tensorflow_datasets/ted_hrlr_translate/pt_to_en/1.0.0.incompleteARQSMH/ted_hrlr_translate-validation.tfrecord\n"
          ],
          "name": "stdout"
        },
        {
          "output_type": "display_data",
          "data": {
            "application/vnd.jupyter.widget-view+json": {
              "model_id": "3a26d10e1aa34518941773dfdb5ae4f5",
              "version_minor": 0,
              "version_major": 2
            },
            "text/plain": [
              "HBox(children=(IntProgress(value=0, max=1193), HTML(value='')))"
            ]
          },
          "metadata": {
            "tags": []
          }
        },
        {
          "output_type": "stream",
          "text": [
            "\r"
          ],
          "name": "stdout"
        },
        {
          "output_type": "display_data",
          "data": {
            "application/vnd.jupyter.widget-view+json": {
              "model_id": "6c6040c5774a40a896f8146ed224abe7",
              "version_minor": 0,
              "version_major": 2
            },
            "text/plain": [
              "HBox(children=(IntProgress(value=1, bar_style='info', max=1), HTML(value='')))"
            ]
          },
          "metadata": {
            "tags": []
          }
        },
        {
          "output_type": "stream",
          "text": [
            "\rShuffling and writing examples to /root/tensorflow_datasets/ted_hrlr_translate/pt_to_en/1.0.0.incompleteARQSMH/ted_hrlr_translate-test.tfrecord\n"
          ],
          "name": "stdout"
        },
        {
          "output_type": "display_data",
          "data": {
            "application/vnd.jupyter.widget-view+json": {
              "model_id": "56e174bd6dc641eaade30db8ce1734a0",
              "version_minor": 0,
              "version_major": 2
            },
            "text/plain": [
              "HBox(children=(IntProgress(value=0, max=1803), HTML(value='')))"
            ]
          },
          "metadata": {
            "tags": []
          }
        },
        {
          "output_type": "stream",
          "text": [
            "\u001b[1mDataset ted_hrlr_translate downloaded and prepared to /root/tensorflow_datasets/ted_hrlr_translate/pt_to_en/1.0.0. Subsequent calls will reuse this data.\u001b[0m\n"
          ],
          "name": "stdout"
        }
      ]
    },
    {
      "cell_type": "code",
      "metadata": {
        "id": "bE-GVsKlKqpt",
        "colab_type": "code",
        "outputId": "0cc724a8-b392-421a-aaa3-f9c7482d0680",
        "colab": {
          "base_uri": "https://localhost:8080/",
          "height": 35
        }
      },
      "source": [
        "x = train_examples.take(1)\n",
        "x"
      ],
      "execution_count": 0,
      "outputs": [
        {
          "output_type": "execute_result",
          "data": {
            "text/plain": [
              "<DatasetV1Adapter shapes: ((), ()), types: (tf.string, tf.string)>"
            ]
          },
          "metadata": {
            "tags": []
          },
          "execution_count": 4
        }
      ]
    },
    {
      "cell_type": "code",
      "metadata": {
        "id": "CNceHTDFGvg_",
        "colab_type": "code",
        "colab": {}
      },
      "source": [
        "tokenizer_en = tfds.features.text.SubwordTextEncoder.build_from_corpus((en.numpy() for pt, en in train_examples), target_vocab_size=2**13)\n",
        "\n",
        "tokenizer_pt = tfds.features.text.SubwordTextEncoder.build_from_corpus((pt.numpy() for pt, en in train_examples), target_vocab_size=2**13)"
      ],
      "execution_count": 0,
      "outputs": []
    },
    {
      "cell_type": "code",
      "metadata": {
        "id": "veli0agVHGjN",
        "colab_type": "code",
        "outputId": "640c300d-659e-4ae4-8632-3610baa575f5",
        "colab": {
          "base_uri": "https://localhost:8080/",
          "height": 52
        }
      },
      "source": [
        "sample_string = 'Transformer is awesome.'\n",
        "\n",
        "tokenized_string = tokenizer_en.encode(sample_string)\n",
        "print ('Tokenized string is {}'.format(tokenized_string))\n",
        "\n",
        "original_string = tokenizer_en.decode(tokenized_string)\n",
        "print ('The original string: {}'.format(original_string))\n",
        "\n",
        "assert original_string == sample_string"
      ],
      "execution_count": 0,
      "outputs": [
        {
          "output_type": "stream",
          "text": [
            "Tokenized string is [7915, 1248, 7946, 7194, 13, 2799, 7877]\n",
            "The original string: Transformer is awesome.\n"
          ],
          "name": "stdout"
        }
      ]
    },
    {
      "cell_type": "code",
      "metadata": {
        "id": "je1cQMDjNoBk",
        "colab_type": "code",
        "outputId": "8a458587-4af6-4640-c893-0b72b3389bc5",
        "colab": {
          "base_uri": "https://localhost:8080/",
          "height": 139
        }
      },
      "source": [
        "for ts in tokenized_string:\n",
        "  print ('{} ----> {}'.format(ts, tokenizer_en.decode([ts])))"
      ],
      "execution_count": 0,
      "outputs": [
        {
          "output_type": "stream",
          "text": [
            "7915 ----> T\n",
            "1248 ----> ran\n",
            "7946 ----> s\n",
            "7194 ----> former \n",
            "13 ----> is \n",
            "2799 ----> awesome\n",
            "7877 ----> .\n"
          ],
          "name": "stdout"
        }
      ]
    },
    {
      "cell_type": "code",
      "metadata": {
        "id": "3xX-tK6lNr42",
        "colab_type": "code",
        "colab": {}
      },
      "source": [
        "BUFFER_SIZE = 20000\n",
        "BATCH_SIZE = 64"
      ],
      "execution_count": 0,
      "outputs": []
    },
    {
      "cell_type": "code",
      "metadata": {
        "id": "r-26PuY7NxOC",
        "colab_type": "code",
        "colab": {}
      },
      "source": [
        "# Add a start and end token to the input and target\n",
        "def encode(lang1, lang2):\n",
        "  lang1 = [tokenizer_pt.vocab_size] + tokenizer_pt.encode(\n",
        "      lang1.numpy()) + [tokenizer_pt.vocab_size+1]\n",
        "\n",
        "  lang2 = [tokenizer_en.vocab_size] + tokenizer_en.encode(\n",
        "      lang2.numpy()) + [tokenizer_en.vocab_size+1]\n",
        "  \n",
        "  return lang1, lang2"
      ],
      "execution_count": 0,
      "outputs": []
    },
    {
      "cell_type": "code",
      "metadata": {
        "id": "zzN8i1zcN_uj",
        "colab_type": "code",
        "colab": {}
      },
      "source": [
        "def tf_encode(pt, en):\n",
        "  result_pt, result_en = tf.py_function(encode, [pt, en], [tf.int64, tf.int64])\n",
        "  result_pt.set_shape([None])\n",
        "  result_en.set_shape([None])\n",
        "\n",
        "  return result_pt, result_en"
      ],
      "execution_count": 0,
      "outputs": []
    },
    {
      "cell_type": "code",
      "metadata": {
        "id": "riOke1uMOODP",
        "colab_type": "code",
        "colab": {}
      },
      "source": [
        "MAX_LENGTH = 40\n",
        "def filter_max_length(x, y, max_length=MAX_LENGTH):\n",
        "  return tf.logical_and(tf.size(x) <= max_length, tf.size(y) <= max_length)"
      ],
      "execution_count": 0,
      "outputs": []
    },
    {
      "cell_type": "code",
      "metadata": {
        "id": "iszU56G6Ob5D",
        "colab_type": "code",
        "colab": {}
      },
      "source": [
        "train_preprocessed = (\n",
        "    train_examples\n",
        "    .map(tf_encode) \n",
        "    .filter(filter_max_length)\n",
        "    # cache the dataset to memory to get a speedup while reading from it.\n",
        "    .cache()\n",
        "    .shuffle(BUFFER_SIZE))\n",
        "\n",
        "val_preprocessed = (\n",
        "    val_examples\n",
        "    .map(tf_encode)\n",
        "    .filter(filter_max_length))"
      ],
      "execution_count": 0,
      "outputs": []
    },
    {
      "cell_type": "code",
      "metadata": {
        "id": "2ePw2zhEOq3L",
        "colab_type": "code",
        "colab": {}
      },
      "source": [
        "#pad all axes to the longest in the batch\n",
        "train_dataset = (train_preprocessed\n",
        "                 .padded_batch(BATCH_SIZE)\n",
        "                 .prefetch(tf.data.experimental.AUTOTUNE))\n",
        "\n",
        "\n",
        "val_dataset = (val_preprocessed\n",
        "               .padded_batch(BATCH_SIZE))"
      ],
      "execution_count": 0,
      "outputs": []
    },
    {
      "cell_type": "code",
      "metadata": {
        "id": "g0ZpDRRVO2go",
        "colab_type": "code",
        "outputId": "d886d8fa-50d7-4e91-c824-2f41dbd94183",
        "colab": {
          "base_uri": "https://localhost:8080/",
          "height": 295
        }
      },
      "source": [
        "pt_batch, en_batch = next(iter(val_dataset))\n",
        "pt_batch, en_batch"
      ],
      "execution_count": 0,
      "outputs": [
        {
          "output_type": "execute_result",
          "data": {
            "text/plain": [
              "(<tf.Tensor: shape=(64, 38), dtype=int64, numpy=\n",
              " array([[8214,  342, 3032, ...,    0,    0,    0],\n",
              "        [8214,   95,  198, ...,    0,    0,    0],\n",
              "        [8214, 4479, 7990, ...,    0,    0,    0],\n",
              "        ...,\n",
              "        [8214,  584,   12, ...,    0,    0,    0],\n",
              "        [8214,   59, 1548, ...,    0,    0,    0],\n",
              "        [8214,  118,   34, ...,    0,    0,    0]])>,\n",
              " <tf.Tensor: shape=(64, 40), dtype=int64, numpy=\n",
              " array([[8087,   98,   25, ...,    0,    0,    0],\n",
              "        [8087,   12,   20, ...,    0,    0,    0],\n",
              "        [8087,   12, 5453, ...,    0,    0,    0],\n",
              "        ...,\n",
              "        [8087,   18, 2059, ...,    0,    0,    0],\n",
              "        [8087,   16, 1436, ...,    0,    0,    0],\n",
              "        [8087,   15,   57, ...,    0,    0,    0]])>)"
            ]
          },
          "metadata": {
            "tags": []
          },
          "execution_count": 14
        }
      ]
    },
    {
      "cell_type": "markdown",
      "metadata": {
        "id": "TFd8_ddiR2Ui",
        "colab_type": "text"
      },
      "source": [
        "# Positional Encoding"
      ]
    },
    {
      "cell_type": "code",
      "metadata": {
        "id": "v5wUPiI1PV8s",
        "colab_type": "code",
        "colab": {}
      },
      "source": [
        "def get_angles(pos, i, d_model):\n",
        "  angle_rates = 1 / np.power(10000, (2 * (i//2)) / np.float32(d_model))\n",
        "  return pos * angle_rates"
      ],
      "execution_count": 0,
      "outputs": []
    },
    {
      "cell_type": "code",
      "metadata": {
        "id": "vCmpA4k4X8yK",
        "colab_type": "code",
        "colab": {}
      },
      "source": [
        "def positional_encoding(position, d_model):\n",
        "  angle_rads = get_angles(np.arange(position)[:, np.newaxis],\n",
        "                          np.arange(d_model)[np.newaxis, :],\n",
        "                          d_model)\n",
        "  \n",
        "  # apply sin to even indices in the array; 2i\n",
        "  angle_rads[:, 0::2] = np.sin(angle_rads[:, 0::2])\n",
        "  \n",
        "  # apply cos to odd indices in the array; 2i+1\n",
        "  angle_rads[:, 1::2] = np.cos(angle_rads[:, 1::2])\n",
        "    \n",
        "  pos_encoding = angle_rads[np.newaxis, ...]\n",
        "    \n",
        "  return tf.cast(pos_encoding, dtype=tf.float32)"
      ],
      "execution_count": 0,
      "outputs": []
    },
    {
      "cell_type": "code",
      "metadata": {
        "id": "r5FlUX0oYBO8",
        "colab_type": "code",
        "outputId": "d5026559-29d0-465a-e30f-c786f5b6d176",
        "colab": {
          "base_uri": "https://localhost:8080/",
          "height": 277
        }
      },
      "source": [
        "pos_encoding = positional_encoding(50, 512)\n",
        "print (pos_encoding.shape)\n",
        "print(pos_encoding)"
      ],
      "execution_count": 0,
      "outputs": [
        {
          "output_type": "stream",
          "text": [
            "(1, 50, 512)\n",
            "tf.Tensor(\n",
            "[[[ 0.00000000e+00  1.00000000e+00  0.00000000e+00 ...  1.00000000e+00\n",
            "    0.00000000e+00  1.00000000e+00]\n",
            "  [ 8.41470957e-01  5.40302277e-01  8.21856201e-01 ...  1.00000000e+00\n",
            "    1.03663289e-04  1.00000000e+00]\n",
            "  [ 9.09297407e-01 -4.16146845e-01  9.36414719e-01 ...  1.00000000e+00\n",
            "    2.07326579e-04  1.00000000e+00]\n",
            "  ...\n",
            "  [ 1.23573124e-01 -9.92335498e-01  9.77189839e-01 ...  9.99987245e-01\n",
            "    4.87215538e-03  9.99988139e-01]\n",
            "  [-7.68254638e-01 -6.40144348e-01  7.31235921e-01 ...  9.99986708e-01\n",
            "    4.97581763e-03  9.99987602e-01]\n",
            "  [-9.53752637e-01  3.00592542e-01 -1.44026920e-01 ...  9.99986112e-01\n",
            "    5.07947942e-03  9.99987125e-01]]], shape=(1, 50, 512), dtype=float32)\n"
          ],
          "name": "stdout"
        }
      ]
    },
    {
      "cell_type": "markdown",
      "metadata": {
        "id": "wWEZpD5xuWaO",
        "colab_type": "text"
      },
      "source": [
        "# Masking"
      ]
    },
    {
      "cell_type": "code",
      "metadata": {
        "id": "r1g9UWBWYKId",
        "colab_type": "code",
        "colab": {}
      },
      "source": [
        "def create_padding_mask(seq):\n",
        "  seq = tf.cast(tf.math.equal(seq, 0), tf.float32)\n",
        "  \n",
        "  # add extra dimensions to add the padding\n",
        "  # to the attention logits.\n",
        "  return seq[:, tf.newaxis, tf.newaxis, :]  # (batch_size, 1, 1, seq_len)"
      ],
      "execution_count": 0,
      "outputs": []
    },
    {
      "cell_type": "code",
      "metadata": {
        "id": "Ri2FTyVouisQ",
        "colab_type": "code",
        "colab": {}
      },
      "source": [
        "def create_look_ahead_mask(size):\n",
        "  mask = 1 - tf.linalg.band_part(tf.ones((size, size)), -1, 0)\n",
        "  return mask  # (seq_len, seq_len)"
      ],
      "execution_count": 0,
      "outputs": []
    },
    {
      "cell_type": "markdown",
      "metadata": {
        "id": "18ARNfU6utDH",
        "colab_type": "text"
      },
      "source": [
        "# Scaled Dot Product Attention"
      ]
    },
    {
      "cell_type": "code",
      "metadata": {
        "id": "et8nDQYeunb_",
        "colab_type": "code",
        "colab": {}
      },
      "source": [
        "def scaled_dot_product_attention(q, k, v, mask):\n",
        "  \"\"\"Calculate the attention weights.\n",
        "  q, k, v must have matching leading dimensions.\n",
        "  k, v must have matching penultimate dimension, i.e.: seq_len_k = seq_len_v.\n",
        "  The mask has different shapes depending on its type(padding or look ahead) \n",
        "  but it must be broadcastable for addition.\n",
        "  \n",
        "  Args:\n",
        "    q: query shape == (..., seq_len_q, depth)\n",
        "    k: key shape == (..., seq_len_k, depth)\n",
        "    v: value shape == (..., seq_len_v, depth_v)\n",
        "    mask: Float tensor with shape broadcastable \n",
        "          to (..., seq_len_q, seq_len_k). Defaults to None.\n",
        "    \n",
        "  Returns:\n",
        "    output, attention_weights\n",
        "  \"\"\"\n",
        "\n",
        "  matmul_qk = tf.matmul(q, k, transpose_b=True)  # (..., seq_len_q, seq_len_k)\n",
        "  \n",
        "  # scale matmul_qk\n",
        "  dk = tf.cast(tf.shape(k)[-1], tf.float32)\n",
        "  scaled_attention_logits = matmul_qk / tf.math.sqrt(dk)\n",
        "\n",
        "  # add the mask to the scaled tensor.\n",
        "  if mask is not None:\n",
        "    scaled_attention_logits += (mask * -1e9)  \n",
        "\n",
        "  # softmax is normalized on the last axis (seq_len_k) so that the scores\n",
        "  # add up to 1.\n",
        "  attention_weights = tf.nn.softmax(scaled_attention_logits, axis=-1)  # (..., seq_len_q, seq_len_k)\n",
        "\n",
        "  output = tf.matmul(attention_weights, v)  # (..., seq_len_q, depth_v)\n",
        "\n",
        "  return output, attention_weights"
      ],
      "execution_count": 0,
      "outputs": []
    },
    {
      "cell_type": "code",
      "metadata": {
        "id": "YV0D5Gv8vAXJ",
        "colab_type": "code",
        "colab": {}
      },
      "source": [
        "def print_out(q, k, v):\n",
        "  temp_out, temp_attn = scaled_dot_product_attention(q, k, v, None)\n",
        "  print ('Attention weights are:')\n",
        "  print (temp_attn)\n",
        "  print ('Output is:')\n",
        "  print (temp_out)"
      ],
      "execution_count": 0,
      "outputs": []
    },
    {
      "cell_type": "markdown",
      "metadata": {
        "id": "6MP0SdeK-RCJ",
        "colab_type": "text"
      },
      "source": [
        "# Multi-head Attention"
      ]
    },
    {
      "cell_type": "code",
      "metadata": {
        "id": "Svsra0y4v-0k",
        "colab_type": "code",
        "colab": {}
      },
      "source": [
        "class MultiHeadAttention(tf.keras.layers.Layer):\n",
        "  def __init__(self, d_model, num_heads):\n",
        "    super(MultiHeadAttention, self).__init__()\n",
        "    self.num_heads = num_heads\n",
        "    self.d_model = d_model\n",
        "    \n",
        "    assert d_model % self.num_heads == 0\n",
        "    \n",
        "    self.depth = d_model // self.num_heads\n",
        "    \n",
        "    self.wq = tf.keras.layers.Dense(d_model)\n",
        "    self.wk = tf.keras.layers.Dense(d_model)\n",
        "    self.wv = tf.keras.layers.Dense(d_model)\n",
        "    \n",
        "    self.dense = tf.keras.layers.Dense(d_model)\n",
        "        \n",
        "  def split_heads(self, x, batch_size):\n",
        "    \"\"\"Split the last dimension into (num_heads, depth).\n",
        "    Transpose the result such that the shape is (batch_size, num_heads, seq_len, depth)\n",
        "    \"\"\"\n",
        "    x = tf.reshape(x, (batch_size, -1, self.num_heads, self.depth))\n",
        "    return tf.transpose(x, perm=[0, 2, 1, 3])\n",
        "    \n",
        "  def call(self, v, k, q, mask):\n",
        "    batch_size = tf.shape(q)[0]\n",
        "    \n",
        "    q = self.wq(q)  # (batch_size, seq_len, d_model)\n",
        "    k = self.wk(k)  # (batch_size, seq_len, d_model)\n",
        "    v = self.wv(v)  # (batch_size, seq_len, d_model)\n",
        "    \n",
        "    q = self.split_heads(q, batch_size)  # (batch_size, num_heads, seq_len_q, depth)\n",
        "    k = self.split_heads(k, batch_size)  # (batch_size, num_heads, seq_len_k, depth)\n",
        "    v = self.split_heads(v, batch_size)  # (batch_size, num_heads, seq_len_v, depth)\n",
        "    \n",
        "    # scaled_attention.shape == (batch_size, num_heads, seq_len_q, depth)\n",
        "    # attention_weights.shape == (batch_size, num_heads, seq_len_q, seq_len_k)\n",
        "    scaled_attention, attention_weights = scaled_dot_product_attention(\n",
        "        q, k, v, mask)\n",
        "    \n",
        "    scaled_attention = tf.transpose(scaled_attention, perm=[0, 2, 1, 3])  # (batch_size, seq_len_q, num_heads, depth)\n",
        "\n",
        "    concat_attention = tf.reshape(scaled_attention, \n",
        "                                  (batch_size, -1, self.d_model))  # (batch_size, seq_len_q, d_model)\n",
        "\n",
        "    output = self.dense(concat_attention)  # (batch_size, seq_len_q, d_model)\n",
        "        \n",
        "    return output, attention_weights"
      ],
      "execution_count": 0,
      "outputs": []
    },
    {
      "cell_type": "markdown",
      "metadata": {
        "id": "r98yXPHgJgFk",
        "colab_type": "text"
      },
      "source": [
        "# Point wise Feed Forward Network"
      ]
    },
    {
      "cell_type": "code",
      "metadata": {
        "id": "A5KgVY38JZw8",
        "colab_type": "code",
        "colab": {}
      },
      "source": [
        "def point_wise_feed_forward_network(d_model, dff):\n",
        "  return tf.keras.Sequential([\n",
        "      tf.keras.layers.Dense(dff, activation='relu'),  # (batch_size, seq_len, dff)\n",
        "      tf.keras.layers.Dense(d_model)  # (batch_size, seq_len, d_model)\n",
        "  ])"
      ],
      "execution_count": 0,
      "outputs": []
    },
    {
      "cell_type": "markdown",
      "metadata": {
        "id": "Emx9LPkwLSIx",
        "colab_type": "text"
      },
      "source": [
        "# Model"
      ]
    },
    {
      "cell_type": "markdown",
      "metadata": {
        "id": "tlUCpBn9LXBt",
        "colab_type": "text"
      },
      "source": [
        "### Encoder Layer"
      ]
    },
    {
      "cell_type": "markdown",
      "metadata": {
        "id": "1t_BNXJnLpP_",
        "colab_type": "text"
      },
      "source": [
        "Each encoder layer consists of sublayers:\n",
        "\n",
        "* Multi-head attention (with padding mask)\n",
        "* Point wise feed forward networks.\n",
        "* Each of these sublayers has a residual connection around it followed by a layer normalization."
      ]
    },
    {
      "cell_type": "code",
      "metadata": {
        "id": "50FgRu6wJ2Tm",
        "colab_type": "code",
        "colab": {}
      },
      "source": [
        "class EncoderLayer(tf.keras.layers.Layer):\n",
        "  def __init__(self, d_model, num_heads, dff, rate=0.1):\n",
        "    super(EncoderLayer, self).__init__()\n",
        "\n",
        "    self.mha = MultiHeadAttention(d_model, num_heads)\n",
        "    self.ffn = point_wise_feed_forward_network(d_model, dff)\n",
        "\n",
        "    self.layernorm1 = tf.keras.layers.LayerNormalization(epsilon=1e-6)\n",
        "    self.layernorm2 = tf.keras.layers.LayerNormalization(epsilon=1e-6)\n",
        "    \n",
        "    self.dropout1 = tf.keras.layers.Dropout(rate)\n",
        "    self.dropout2 = tf.keras.layers.Dropout(rate)\n",
        "    \n",
        "  def call(self, x, training, mask):\n",
        "\n",
        "    attn_output, _ = self.mha(x, x, x, mask)  # (batch_size, input_seq_len, d_model)\n",
        "    attn_output = self.dropout1(attn_output, training=training)\n",
        "    out1 = self.layernorm1(x + attn_output)  # (batch_size, input_seq_len, d_model)\n",
        "    \n",
        "    ffn_output = self.ffn(out1)  # (batch_size, input_seq_len, d_model)\n",
        "    ffn_output = self.dropout2(ffn_output, training=training)\n",
        "    out2 = self.layernorm2(out1 + ffn_output)  # (batch_size, input_seq_len, d_model)\n",
        "    \n",
        "    return out2"
      ],
      "execution_count": 0,
      "outputs": []
    },
    {
      "cell_type": "markdown",
      "metadata": {
        "id": "4rMw2jKkL_Bx",
        "colab_type": "text"
      },
      "source": [
        "### Decoder Layer"
      ]
    },
    {
      "cell_type": "markdown",
      "metadata": {
        "id": "-gaomlbjMCvt",
        "colab_type": "text"
      },
      "source": [
        "Each decoder layer consists of sublayers:\n",
        "\n",
        "* Masked multi-head attention (with look ahead mask and padding mask)\n",
        "* Multi-head attention (with padding mask). V (value) and K (key) receive the encoder output as inputs. Q (query) receives the output from the masked multi-head attention sublayer.\n",
        "* Point wise feed forward networks\n",
        "* Each of these sublayers has a residual connection around it followed by a layer normalization."
      ]
    },
    {
      "cell_type": "code",
      "metadata": {
        "id": "he8ihiiTLf-K",
        "colab_type": "code",
        "colab": {}
      },
      "source": [
        "class DecoderLayer(tf.keras.layers.Layer):\n",
        "  def __init__(self, d_model, num_heads, dff, rate=0.1):\n",
        "    super(DecoderLayer, self).__init__()\n",
        "\n",
        "    self.mha1 = MultiHeadAttention(d_model, num_heads)\n",
        "    self.mha2 = MultiHeadAttention(d_model, num_heads)\n",
        "\n",
        "    self.ffn = point_wise_feed_forward_network(d_model, dff)\n",
        " \n",
        "    self.layernorm1 = tf.keras.layers.LayerNormalization(epsilon=1e-6)\n",
        "    self.layernorm2 = tf.keras.layers.LayerNormalization(epsilon=1e-6)\n",
        "    self.layernorm3 = tf.keras.layers.LayerNormalization(epsilon=1e-6)\n",
        "    \n",
        "    self.dropout1 = tf.keras.layers.Dropout(rate)\n",
        "    self.dropout2 = tf.keras.layers.Dropout(rate)\n",
        "    self.dropout3 = tf.keras.layers.Dropout(rate)\n",
        "    \n",
        "    \n",
        "  def call(self, x, enc_output, training, \n",
        "           look_ahead_mask, padding_mask):\n",
        "    # enc_output.shape == (batch_size, input_seq_len, d_model)\n",
        "\n",
        "    attn1, attn_weights_block1 = self.mha1(x, x, x, look_ahead_mask)  # (batch_size, target_seq_len, d_model)\n",
        "    attn1 = self.dropout1(attn1, training=training)\n",
        "    out1 = self.layernorm1(attn1 + x)\n",
        "    \n",
        "    attn2, attn_weights_block2 = self.mha2(\n",
        "        enc_output, enc_output, out1, padding_mask)  # (batch_size, target_seq_len, d_model)\n",
        "    attn2 = self.dropout2(attn2, training=training)\n",
        "    out2 = self.layernorm2(attn2 + out1)  # (batch_size, target_seq_len, d_model)\n",
        "    \n",
        "    ffn_output = self.ffn(out2)  # (batch_size, target_seq_len, d_model)\n",
        "    ffn_output = self.dropout3(ffn_output, training=training)\n",
        "    out3 = self.layernorm3(ffn_output + out2)  # (batch_size, target_seq_len, d_model)\n",
        "    \n",
        "    return out3, attn_weights_block1, attn_weights_block2"
      ],
      "execution_count": 0,
      "outputs": []
    },
    {
      "cell_type": "markdown",
      "metadata": {
        "id": "m8nqL5SNNk71",
        "colab_type": "text"
      },
      "source": [
        "### Encoder"
      ]
    },
    {
      "cell_type": "markdown",
      "metadata": {
        "id": "DyhTplxnNo_Z",
        "colab_type": "text"
      },
      "source": [
        "The Encoder consists of:\n",
        "\n",
        "* Input Embedding\n",
        "* Positional Encoding\n",
        "* N encoder layers\n",
        "\n",
        "The input is put through an embedding which is summed with the positional encoding. The output of this summation is the input to the encoder layers. The output of the encoder is the input to the decoder."
      ]
    },
    {
      "cell_type": "code",
      "metadata": {
        "id": "Ou78cCwvN-UQ",
        "colab_type": "code",
        "colab": {}
      },
      "source": [
        "class Encoder(tf.keras.layers.Layer):\n",
        "  def __init__(self, num_layers, d_model, num_heads, dff, input_vocab_size,\n",
        "               maximum_position_encoding, rate=0.1):\n",
        "    super(Encoder, self).__init__()\n",
        "\n",
        "    self.d_model = d_model\n",
        "    self.num_layers = num_layers\n",
        "    \n",
        "    self.embedding = tf.keras.layers.Embedding(input_vocab_size, d_model)\n",
        "    self.pos_encoding = positional_encoding(maximum_position_encoding, \n",
        "                                            self.d_model)\n",
        "    \n",
        "    \n",
        "    self.enc_layers = [EncoderLayer(d_model, num_heads, dff, rate) \n",
        "                       for _ in range(num_layers)]\n",
        "  \n",
        "    self.dropout = tf.keras.layers.Dropout(rate)\n",
        "        \n",
        "  def call(self, x, training, mask):\n",
        "\n",
        "    seq_len = tf.shape(x)[1]\n",
        "    \n",
        "    # adding embedding and position encoding.\n",
        "    x = self.embedding(x)  # (batch_size, input_seq_len, d_model)\n",
        "    x *= tf.math.sqrt(tf.cast(self.d_model, tf.float32))\n",
        "    x += self.pos_encoding[:, :seq_len, :]\n",
        "\n",
        "    x = self.dropout(x, training=training)\n",
        "    \n",
        "    for i in range(self.num_layers):\n",
        "      x = self.enc_layers[i](x, training, mask)\n",
        "    \n",
        "    return x  # (batch_size, input_seq_len, d_model)"
      ],
      "execution_count": 0,
      "outputs": []
    },
    {
      "cell_type": "markdown",
      "metadata": {
        "id": "RwjpyAwNO6bF",
        "colab_type": "text"
      },
      "source": [
        "### Decoder"
      ]
    },
    {
      "cell_type": "markdown",
      "metadata": {
        "id": "GbiIi6LTO8OL",
        "colab_type": "text"
      },
      "source": [
        "The Decoder consists of:\n",
        "\n",
        "* Output Embedding\n",
        "* Positional Encoding\n",
        "* N decoder layers\n",
        "\n",
        "The target is put through an embedding which is summed with the positional encoding. The output of this summation is the input to the decoder layers. The output of the decoder is the input to the final linear layer."
      ]
    },
    {
      "cell_type": "code",
      "metadata": {
        "id": "14YQtH1LPJnl",
        "colab_type": "code",
        "colab": {}
      },
      "source": [
        "class Decoder(tf.keras.layers.Layer):\n",
        "  def __init__(self, num_layers, d_model, num_heads, dff, target_vocab_size,\n",
        "               maximum_position_encoding, rate=0.1):\n",
        "    super(Decoder, self).__init__()\n",
        "\n",
        "    self.d_model = d_model\n",
        "    self.num_layers = num_layers\n",
        "    \n",
        "    self.embedding = tf.keras.layers.Embedding(target_vocab_size, d_model)\n",
        "    self.pos_encoding = positional_encoding(maximum_position_encoding, d_model)\n",
        "    \n",
        "    self.dec_layers = [DecoderLayer(d_model, num_heads, dff, rate) \n",
        "                       for _ in range(num_layers)]\n",
        "    self.dropout = tf.keras.layers.Dropout(rate)\n",
        "    \n",
        "  def call(self, x, enc_output, training, \n",
        "           look_ahead_mask, padding_mask):\n",
        "\n",
        "    seq_len = tf.shape(x)[1]\n",
        "    attention_weights = {}\n",
        "    \n",
        "    x = self.embedding(x)  # (batch_size, target_seq_len, d_model)\n",
        "    x *= tf.math.sqrt(tf.cast(self.d_model, tf.float32))\n",
        "    x += self.pos_encoding[:, :seq_len, :]\n",
        "    \n",
        "    x = self.dropout(x, training=training)\n",
        "\n",
        "    for i in range(self.num_layers):\n",
        "      x, block1, block2 = self.dec_layers[i](x, enc_output, training,\n",
        "                                             look_ahead_mask, padding_mask)\n",
        "      \n",
        "      attention_weights['decoder_layer{}_block1'.format(i+1)] = block1\n",
        "      attention_weights['decoder_layer{}_block2'.format(i+1)] = block2\n",
        "    \n",
        "    # x.shape == (batch_size, target_seq_len, d_model)\n",
        "    return x, attention_weights"
      ],
      "execution_count": 0,
      "outputs": []
    },
    {
      "cell_type": "markdown",
      "metadata": {
        "id": "JLA7jcjjQC-d",
        "colab_type": "text"
      },
      "source": [
        "### Transformer"
      ]
    },
    {
      "cell_type": "code",
      "metadata": {
        "id": "vkq-b-1MQCdG",
        "colab_type": "code",
        "colab": {}
      },
      "source": [
        "class Transformer(tf.keras.Model):\n",
        "  def __init__(self, num_layers, d_model, num_heads, dff, input_vocab_size, \n",
        "               target_vocab_size, pe_input, pe_target, rate=0.1):\n",
        "    super(Transformer, self).__init__()\n",
        "\n",
        "    self.encoder = Encoder(num_layers, d_model, num_heads, dff, \n",
        "                           input_vocab_size, pe_input, rate)\n",
        "\n",
        "    self.decoder = Decoder(num_layers, d_model, num_heads, dff, \n",
        "                           target_vocab_size, pe_target, rate)\n",
        "\n",
        "    self.final_layer = tf.keras.layers.Dense(target_vocab_size)\n",
        "    \n",
        "  def call(self, inp, tar, training, enc_padding_mask, look_ahead_mask, dec_padding_mask):\n",
        "\n",
        "    enc_output = self.encoder(inp, training, enc_padding_mask)  # (batch_size, inp_seq_len, d_model)\n",
        "    \n",
        "    # dec_output.shape == (batch_size, tar_seq_len, d_model)\n",
        "    dec_output, attention_weights = self.decoder(tar, enc_output, training, look_ahead_mask, dec_padding_mask)\n",
        "    \n",
        "    final_output = self.final_layer(dec_output)  # (batch_size, tar_seq_len, target_vocab_size)\n",
        "    \n",
        "    return final_output, attention_weights"
      ],
      "execution_count": 0,
      "outputs": []
    },
    {
      "cell_type": "code",
      "metadata": {
        "id": "2KSHxlh_QeVx",
        "colab_type": "code",
        "colab": {}
      },
      "source": [
        "# define hyperparameters\n",
        "num_layers = 4\n",
        "d_model = 128\n",
        "dff = 512\n",
        "num_heads = 8\n",
        "\n",
        "input_vocab_size = tokenizer_pt.vocab_size + 2\n",
        "target_vocab_size = tokenizer_en.vocab_size + 2\n",
        "dropout_rate = 0.1"
      ],
      "execution_count": 0,
      "outputs": []
    },
    {
      "cell_type": "markdown",
      "metadata": {
        "id": "8judfowGQkgq",
        "colab_type": "text"
      },
      "source": [
        "# Optimizers and Loss"
      ]
    },
    {
      "cell_type": "code",
      "metadata": {
        "id": "YRDSYAKGQiwJ",
        "colab_type": "code",
        "colab": {}
      },
      "source": [
        "class CustomSchedule(tf.keras.optimizers.schedules.LearningRateSchedule):\n",
        "  def __init__(self, d_model, warmup_steps=4000):\n",
        "    super(CustomSchedule, self).__init__()\n",
        "    \n",
        "    self.d_model = d_model\n",
        "    self.d_model = tf.cast(self.d_model, tf.float32)\n",
        "\n",
        "    self.warmup_steps = warmup_steps\n",
        "    \n",
        "  def __call__(self, step):\n",
        "    arg1 = tf.math.rsqrt(step)\n",
        "    arg2 = step * (self.warmup_steps ** -1.5)\n",
        "    \n",
        "    return tf.math.rsqrt(self.d_model) * tf.math.minimum(arg1, arg2)"
      ],
      "execution_count": 0,
      "outputs": []
    },
    {
      "cell_type": "code",
      "metadata": {
        "id": "UblE2xwmSPrz",
        "colab_type": "code",
        "colab": {}
      },
      "source": [
        "learning_rate = CustomSchedule(d_model)\n",
        "\n",
        "optimizer = tf.keras.optimizers.Adam(learning_rate, beta_1=0.9, beta_2=0.98, \n",
        "                                     epsilon=1e-9)"
      ],
      "execution_count": 0,
      "outputs": []
    },
    {
      "cell_type": "code",
      "metadata": {
        "id": "OloH50-RSQqC",
        "colab_type": "code",
        "outputId": "d1c55890-2671-461d-d8c7-38fdff7fb292",
        "colab": {
          "base_uri": "https://localhost:8080/",
          "height": 297
        }
      },
      "source": [
        "temp_learning_rate_schedule = CustomSchedule(d_model)\n",
        "\n",
        "plt.plot(temp_learning_rate_schedule(tf.range(40000, dtype=tf.float32)))\n",
        "plt.ylabel(\"Learning Rate\")\n",
        "plt.xlabel(\"Train Step\")"
      ],
      "execution_count": 0,
      "outputs": [
        {
          "output_type": "execute_result",
          "data": {
            "text/plain": [
              "Text(0.5, 0, 'Train Step')"
            ]
          },
          "metadata": {
            "tags": []
          },
          "execution_count": 32
        },
        {
          "output_type": "display_data",
          "data": {
            "image/png": "[encoded data removed]",
            "text/plain": [
              "<Figure size 432x288 with 1 Axes>"
            ]
          },
          "metadata": {
            "tags": [],
            "needs_background": "light"
          }
        }
      ]
    },
    {
      "cell_type": "code",
      "metadata": {
        "id": "SQZH3X09SWSj",
        "colab_type": "code",
        "colab": {}
      },
      "source": [
        "loss_object = tf.keras.losses.SparseCategoricalCrossentropy(from_logits=True, reduction='none')"
      ],
      "execution_count": 0,
      "outputs": []
    },
    {
      "cell_type": "code",
      "metadata": {
        "id": "BXviGoshSfQV",
        "colab_type": "code",
        "colab": {}
      },
      "source": [
        "def loss_function(real, pred):\n",
        "  mask = tf.math.logical_not(tf.math.equal(real, 0))\n",
        "  loss_ = loss_object(real, pred)\n",
        "\n",
        "  mask = tf.cast(mask, dtype=loss_.dtype)\n",
        "  loss_ *= mask\n",
        "  \n",
        "  return tf.reduce_sum(loss_)/tf.reduce_sum(mask)"
      ],
      "execution_count": 0,
      "outputs": []
    },
    {
      "cell_type": "code",
      "metadata": {
        "id": "sz44Z4XTSj2I",
        "colab_type": "code",
        "colab": {}
      },
      "source": [
        "train_loss = tf.keras.metrics.Mean(name='train_loss')\n",
        "train_accuracy = tf.keras.metrics.SparseCategoricalAccuracy(name='train_accuracy')"
      ],
      "execution_count": 0,
      "outputs": []
    },
    {
      "cell_type": "markdown",
      "metadata": {
        "id": "eO_QmAmPSuq_",
        "colab_type": "text"
      },
      "source": [
        "# Train"
      ]
    },
    {
      "cell_type": "code",
      "metadata": {
        "id": "FONrHnUsSwib",
        "colab_type": "code",
        "colab": {}
      },
      "source": [
        "transformer = Transformer(num_layers, d_model, num_heads, dff,\n",
        "                          input_vocab_size, target_vocab_size, \n",
        "                          pe_input=input_vocab_size, \n",
        "                          pe_target=target_vocab_size,\n",
        "                          rate=dropout_rate)"
      ],
      "execution_count": 0,
      "outputs": []
    },
    {
      "cell_type": "code",
      "metadata": {
        "id": "D-CrUM6lS2M1",
        "colab_type": "code",
        "colab": {}
      },
      "source": [
        "def create_masks(inp, tar):\n",
        "  # Encoder padding mask\n",
        "  enc_padding_mask = create_padding_mask(inp)\n",
        "  \n",
        "  # Used in the 2nd attention block in the decoder.\n",
        "  # This padding mask is used to mask the encoder outputs.\n",
        "  dec_padding_mask = create_padding_mask(inp)\n",
        "  \n",
        "  # Used in the 1st attention block in the decoder.\n",
        "  # It is used to pad and mask future tokens in the input received by \n",
        "  # the decoder.\n",
        "  look_ahead_mask = create_look_ahead_mask(tf.shape(tar)[1])\n",
        "  dec_target_padding_mask = create_padding_mask(tar)\n",
        "  combined_mask = tf.maximum(dec_target_padding_mask, look_ahead_mask)\n",
        "  \n",
        "  return enc_padding_mask, combined_mask, dec_padding_mask"
      ],
      "execution_count": 0,
      "outputs": []
    },
    {
      "cell_type": "code",
      "metadata": {
        "id": "h4QF_kHUT3Vi",
        "colab_type": "code",
        "colab": {}
      },
      "source": [
        "EPOCHS = 20"
      ],
      "execution_count": 0,
      "outputs": []
    },
    {
      "cell_type": "code",
      "metadata": {
        "id": "7uU4jUPkT4Rm",
        "colab_type": "code",
        "colab": {}
      },
      "source": [
        "# The @tf.function trace-compiles train_step into a TF graph for faster execution. The function specializes to the precise shape of the argument tensors. \n",
        "#To avoid re-tracing due to the variable sequence lengths or variable batch sizes (the last batch is smaller), use input_signature to specify more generic shapes.\n",
        "\n",
        "train_step_signature = [\n",
        "    tf.TensorSpec(shape=(None, None), dtype=tf.int64),\n",
        "    tf.TensorSpec(shape=(None, None), dtype=tf.int64),\n",
        "]\n",
        "\n",
        "@tf.function(input_signature=train_step_signature)\n",
        "def train_step(inp, tar):\n",
        "  tar_inp = tar[:, :-1]\n",
        "  tar_real = tar[:, 1:]\n",
        "  \n",
        "  enc_padding_mask, combined_mask, dec_padding_mask = create_masks(inp, tar_inp)\n",
        "  \n",
        "  with tf.GradientTape() as tape:\n",
        "    predictions, _ = transformer(inp, tar_inp, \n",
        "                                 True, \n",
        "                                 enc_padding_mask, \n",
        "                                 combined_mask, \n",
        "                                 dec_padding_mask)\n",
        "    loss = loss_function(tar_real, predictions)\n",
        "\n",
        "  gradients = tape.gradient(loss, transformer.trainable_variables)    \n",
        "  optimizer.apply_gradients(zip(gradients, transformer.trainable_variables))\n",
        "  \n",
        "  train_loss(loss)\n",
        "  train_accuracy(tar_real, predictions)"
      ],
      "execution_count": 0,
      "outputs": []
    },
    {
      "cell_type": "code",
      "metadata": {
        "id": "jcWear3iUPQm",
        "colab_type": "code",
        "outputId": "0e4d7873-6471-4604-8422-8de6895b66cf",
        "colab": {
          "base_uri": "https://localhost:8080/",
          "height": 1000
        }
      },
      "source": [
        "for epoch in range(EPOCHS):\n",
        "  start = time.time()\n",
        "  \n",
        "  train_loss.reset_states()\n",
        "  train_accuracy.reset_states()\n",
        "  \n",
        "  # inp -> portuguese, tar -> english\n",
        "  for (batch, (inp, tar)) in enumerate(train_dataset):\n",
        "    train_step(inp, tar)\n",
        "    \n",
        "    if batch % 50 == 0:\n",
        "      print ('Epoch {} Batch {} Loss {:.4f} Accuracy {:.4f}'.format(\n",
        "          epoch + 1, batch, train_loss.result(), train_accuracy.result()))\n",
        "       \n",
        "  print ('Epoch {} Loss {:.4f} Accuracy {:.4f}'.format(epoch + 1, \n",
        "                                                train_loss.result(), \n",
        "                                                train_accuracy.result()))\n",
        "\n",
        "  print ('Time taken for 1 epoch: {} secs\\n'.format(time.time() - start))"
      ],
      "execution_count": 0,
      "outputs": [
        {
          "output_type": "stream",
          "text": [
            "Epoch 1 Batch 0 Loss 8.9983 Accuracy 0.0000\n",
            "Epoch 1 Batch 50 Loss 8.9314 Accuracy 0.0027\n",
            "Epoch 1 Batch 100 Loss 8.8439 Accuracy 0.0147\n",
            "Epoch 1 Batch 150 Loss 8.7419 Accuracy 0.0187\n",
            "Epoch 1 Batch 200 Loss 8.6152 Accuracy 0.0208\n",
            "Epoch 1 Batch 250 Loss 8.4610 Accuracy 0.0220\n",
            "Epoch 1 Batch 300 Loss 8.2851 Accuracy 0.0231\n",
            "Epoch 1 Batch 350 Loss 8.0983 Accuracy 0.0264\n",
            "Epoch 1 Batch 400 Loss 7.9167 Accuracy 0.0300\n",
            "Epoch 1 Batch 450 Loss 7.7543 Accuracy 0.0335\n",
            "Epoch 1 Batch 500 Loss 7.6116 Accuracy 0.0365\n",
            "Epoch 1 Batch 550 Loss 7.4800 Accuracy 0.0398\n",
            "Epoch 1 Batch 600 Loss 7.3555 Accuracy 0.0435\n",
            "Epoch 1 Batch 650 Loss 7.2371 Accuracy 0.0471\n",
            "Epoch 1 Batch 700 Loss 7.1234 Accuracy 0.0505\n",
            "Epoch 1 Loss 7.1189 Accuracy 0.0506\n",
            "Time taken for 1 epoch: 142.4868950843811 secs\n",
            "\n",
            "Epoch 2 Batch 0 Loss 5.5229 Accuracy 0.0990\n",
            "Epoch 2 Batch 50 Loss 5.4876 Accuracy 0.1018\n",
            "Epoch 2 Batch 100 Loss 5.4358 Accuracy 0.1052\n",
            "Epoch 2 Batch 150 Loss 5.3739 Accuracy 0.1075\n",
            "Epoch 2 Batch 200 Loss 5.3241 Accuracy 0.1093\n",
            "Epoch 2 Batch 250 Loss 5.2836 Accuracy 0.1108\n",
            "Epoch 2 Batch 300 Loss 5.2464 Accuracy 0.1129\n",
            "Epoch 2 Batch 350 Loss 5.2099 Accuracy 0.1147\n",
            "Epoch 2 Batch 400 Loss 5.1739 Accuracy 0.1165\n",
            "Epoch 2 Batch 450 Loss 5.1404 Accuracy 0.1182\n",
            "Epoch 2 Batch 500 Loss 5.1104 Accuracy 0.1196\n",
            "Epoch 2 Batch 550 Loss 5.0825 Accuracy 0.1210\n",
            "Epoch 2 Batch 600 Loss 5.0556 Accuracy 0.1221\n",
            "Epoch 2 Batch 650 Loss 5.0302 Accuracy 0.1234\n",
            "Epoch 2 Batch 700 Loss 5.0060 Accuracy 0.1245\n",
            "Epoch 2 Loss 5.0054 Accuracy 0.1246\n",
            "Time taken for 1 epoch: 92.05596923828125 secs\n",
            "\n",
            "Epoch 3 Batch 0 Loss 4.7153 Accuracy 0.1471\n",
            "Epoch 3 Batch 50 Loss 4.6028 Accuracy 0.1420\n",
            "Epoch 3 Batch 100 Loss 4.6044 Accuracy 0.1431\n",
            "Epoch 3 Batch 150 Loss 4.5876 Accuracy 0.1434\n",
            "Epoch 3 Batch 200 Loss 4.5771 Accuracy 0.1442\n",
            "Epoch 3 Batch 250 Loss 4.5668 Accuracy 0.1449\n",
            "Epoch 3 Batch 300 Loss 4.5509 Accuracy 0.1453\n",
            "Epoch 3 Batch 350 Loss 4.5358 Accuracy 0.1457\n",
            "Epoch 3 Batch 400 Loss 4.5239 Accuracy 0.1464\n",
            "Epoch 3 Batch 450 Loss 4.5103 Accuracy 0.1472\n",
            "Epoch 3 Batch 500 Loss 4.4996 Accuracy 0.1480\n",
            "Epoch 3 Batch 550 Loss 4.4889 Accuracy 0.1485\n",
            "Epoch 3 Batch 600 Loss 4.4782 Accuracy 0.1490\n",
            "Epoch 3 Batch 650 Loss 4.4671 Accuracy 0.1496\n",
            "Epoch 3 Batch 700 Loss 4.4561 Accuracy 0.1501\n",
            "Epoch 3 Loss 4.4563 Accuracy 0.1501\n",
            "Time taken for 1 epoch: 91.89867997169495 secs\n",
            "\n",
            "Epoch 4 Batch 0 Loss 4.1975 Accuracy 0.1503\n",
            "Epoch 4 Batch 50 Loss 4.1933 Accuracy 0.1608\n",
            "Epoch 4 Batch 100 Loss 4.1861 Accuracy 0.1614\n",
            "Epoch 4 Batch 150 Loss 4.1795 Accuracy 0.1619\n",
            "Epoch 4 Batch 200 Loss 4.1716 Accuracy 0.1626\n",
            "Epoch 4 Batch 250 Loss 4.1560 Accuracy 0.1638\n",
            "Epoch 4 Batch 300 Loss 4.1429 Accuracy 0.1646\n",
            "Epoch 4 Batch 350 Loss 4.1310 Accuracy 0.1656\n",
            "Epoch 4 Batch 400 Loss 4.1156 Accuracy 0.1663\n",
            "Epoch 4 Batch 450 Loss 4.1028 Accuracy 0.1673\n",
            "Epoch 4 Batch 500 Loss 4.0923 Accuracy 0.1680\n",
            "Epoch 4 Batch 550 Loss 4.0788 Accuracy 0.1689\n",
            "Epoch 4 Batch 600 Loss 4.0661 Accuracy 0.1696\n",
            "Epoch 4 Batch 650 Loss 4.0529 Accuracy 0.1705\n",
            "Epoch 4 Batch 700 Loss 4.0409 Accuracy 0.1716\n",
            "Epoch 4 Loss 4.0405 Accuracy 0.1716\n",
            "Time taken for 1 epoch: 92.58331990242004 secs\n",
            "\n",
            "Epoch 5 Batch 0 Loss 3.7287 Accuracy 0.1787\n",
            "Epoch 5 Batch 50 Loss 3.7223 Accuracy 0.1903\n",
            "Epoch 5 Batch 100 Loss 3.7121 Accuracy 0.1892\n",
            "Epoch 5 Batch 150 Loss 3.6991 Accuracy 0.1895\n",
            "Epoch 5 Batch 200 Loss 3.6894 Accuracy 0.1904\n",
            "Epoch 5 Batch 250 Loss 3.6785 Accuracy 0.1912\n",
            "Epoch 5 Batch 300 Loss 3.6684 Accuracy 0.1920\n",
            "Epoch 5 Batch 350 Loss 3.6539 Accuracy 0.1932\n",
            "Epoch 5 Batch 400 Loss 3.6398 Accuracy 0.1943\n",
            "Epoch 5 Batch 450 Loss 3.6281 Accuracy 0.1951\n",
            "Epoch 5 Batch 500 Loss 3.6182 Accuracy 0.1961\n",
            "Epoch 5 Batch 550 Loss 3.6083 Accuracy 0.1967\n",
            "Epoch 5 Batch 600 Loss 3.5986 Accuracy 0.1974\n",
            "Epoch 5 Batch 650 Loss 3.5889 Accuracy 0.1980\n",
            "Epoch 5 Batch 700 Loss 3.5773 Accuracy 0.1990\n",
            "Epoch 5 Loss 3.5769 Accuracy 0.1991\n",
            "Time taken for 1 epoch: 92.0156672000885 secs\n",
            "\n",
            "Epoch 6 Batch 0 Loss 3.3585 Accuracy 0.2109\n",
            "Epoch 6 Batch 50 Loss 3.2063 Accuracy 0.2141\n",
            "Epoch 6 Batch 100 Loss 3.2205 Accuracy 0.2158\n",
            "Epoch 6 Batch 150 Loss 3.2237 Accuracy 0.2153\n",
            "Epoch 6 Batch 200 Loss 3.2299 Accuracy 0.2152\n",
            "Epoch 6 Batch 250 Loss 3.2255 Accuracy 0.2158\n",
            "Epoch 6 Batch 300 Loss 3.2197 Accuracy 0.2163\n",
            "Epoch 6 Batch 350 Loss 3.2071 Accuracy 0.2173\n",
            "Epoch 6 Batch 400 Loss 3.2029 Accuracy 0.2180\n",
            "Epoch 6 Batch 450 Loss 3.1997 Accuracy 0.2182\n",
            "Epoch 6 Batch 500 Loss 3.1941 Accuracy 0.2185\n",
            "Epoch 6 Batch 550 Loss 3.1898 Accuracy 0.2189\n",
            "Epoch 6 Batch 600 Loss 3.1839 Accuracy 0.2194\n",
            "Epoch 6 Batch 650 Loss 3.1780 Accuracy 0.2200\n",
            "Epoch 6 Batch 700 Loss 3.1727 Accuracy 0.2206\n",
            "Epoch 6 Loss 3.1726 Accuracy 0.2206\n",
            "Time taken for 1 epoch: 92.34974074363708 secs\n",
            "\n",
            "Epoch 7 Batch 0 Loss 2.8601 Accuracy 0.2183\n",
            "Epoch 7 Batch 50 Loss 2.8438 Accuracy 0.2387\n",
            "Epoch 7 Batch 100 Loss 2.8418 Accuracy 0.2367\n",
            "Epoch 7 Batch 150 Loss 2.8398 Accuracy 0.2378\n",
            "Epoch 7 Batch 200 Loss 2.8397 Accuracy 0.2385\n",
            "Epoch 7 Batch 250 Loss 2.8366 Accuracy 0.2386\n",
            "Epoch 7 Batch 300 Loss 2.8324 Accuracy 0.2391\n",
            "Epoch 7 Batch 350 Loss 2.8222 Accuracy 0.2398\n",
            "Epoch 7 Batch 400 Loss 2.8165 Accuracy 0.2405\n",
            "Epoch 7 Batch 450 Loss 2.8080 Accuracy 0.2406\n",
            "Epoch 7 Batch 500 Loss 2.8060 Accuracy 0.2408\n",
            "Epoch 7 Batch 550 Loss 2.7986 Accuracy 0.2414\n",
            "Epoch 7 Batch 600 Loss 2.7909 Accuracy 0.2418\n",
            "Epoch 7 Batch 650 Loss 2.7861 Accuracy 0.2422\n",
            "Epoch 7 Batch 700 Loss 2.7779 Accuracy 0.2424\n",
            "Epoch 7 Loss 2.7777 Accuracy 0.2424\n",
            "Time taken for 1 epoch: 92.46246337890625 secs\n",
            "\n",
            "Epoch 8 Batch 0 Loss 2.3416 Accuracy 0.2565\n",
            "Epoch 8 Batch 50 Loss 2.4599 Accuracy 0.2588\n",
            "Epoch 8 Batch 100 Loss 2.4741 Accuracy 0.2592\n",
            "Epoch 8 Batch 150 Loss 2.4725 Accuracy 0.2594\n",
            "Epoch 8 Batch 200 Loss 2.4632 Accuracy 0.2604\n",
            "Epoch 8 Batch 250 Loss 2.4646 Accuracy 0.2591\n",
            "Epoch 8 Batch 300 Loss 2.4594 Accuracy 0.2593\n",
            "Epoch 8 Batch 350 Loss 2.4584 Accuracy 0.2596\n",
            "Epoch 8 Batch 400 Loss 2.4584 Accuracy 0.2595\n",
            "Epoch 8 Batch 450 Loss 2.4567 Accuracy 0.2601\n",
            "Epoch 8 Batch 500 Loss 2.4543 Accuracy 0.2605\n",
            "Epoch 8 Batch 550 Loss 2.4500 Accuracy 0.2607\n",
            "Epoch 8 Batch 600 Loss 2.4474 Accuracy 0.2609\n",
            "Epoch 8 Batch 650 Loss 2.4450 Accuracy 0.2612\n",
            "Epoch 8 Batch 700 Loss 2.4419 Accuracy 0.2614\n",
            "Epoch 8 Loss 2.4416 Accuracy 0.2614\n",
            "Time taken for 1 epoch: 92.56400156021118 secs\n",
            "\n",
            "Epoch 9 Batch 0 Loss 2.1486 Accuracy 0.3246\n",
            "Epoch 9 Batch 50 Loss 2.1531 Accuracy 0.2750\n",
            "Epoch 9 Batch 100 Loss 2.1682 Accuracy 0.2756\n",
            "Epoch 9 Batch 150 Loss 2.1849 Accuracy 0.2742\n",
            "Epoch 9 Batch 200 Loss 2.1835 Accuracy 0.2752\n",
            "Epoch 9 Batch 250 Loss 2.1859 Accuracy 0.2757\n",
            "Epoch 9 Batch 300 Loss 2.1889 Accuracy 0.2757\n",
            "Epoch 9 Batch 350 Loss 2.1885 Accuracy 0.2762\n",
            "Epoch 9 Batch 400 Loss 2.1911 Accuracy 0.2760\n",
            "Epoch 9 Batch 450 Loss 2.1919 Accuracy 0.2759\n",
            "Epoch 9 Batch 500 Loss 2.1943 Accuracy 0.2759\n",
            "Epoch 9 Batch 550 Loss 2.1944 Accuracy 0.2764\n",
            "Epoch 9 Batch 600 Loss 2.1930 Accuracy 0.2764\n",
            "Epoch 9 Batch 650 Loss 2.1923 Accuracy 0.2767\n",
            "Epoch 9 Batch 700 Loss 2.1937 Accuracy 0.2767\n",
            "Epoch 9 Loss 2.1938 Accuracy 0.2767\n",
            "Time taken for 1 epoch: 92.07953882217407 secs\n",
            "\n",
            "Epoch 10 Batch 0 Loss 2.0611 Accuracy 0.2726\n",
            "Epoch 10 Batch 50 Loss 1.9789 Accuracy 0.2868\n",
            "Epoch 10 Batch 100 Loss 1.9742 Accuracy 0.2887\n",
            "Epoch 10 Batch 150 Loss 1.9805 Accuracy 0.2881\n",
            "Epoch 10 Batch 200 Loss 1.9817 Accuracy 0.2874\n",
            "Epoch 10 Batch 250 Loss 1.9821 Accuracy 0.2870\n",
            "Epoch 10 Batch 300 Loss 1.9847 Accuracy 0.2872\n",
            "Epoch 10 Batch 350 Loss 1.9894 Accuracy 0.2872\n",
            "Epoch 10 Batch 400 Loss 1.9893 Accuracy 0.2877\n",
            "Epoch 10 Batch 450 Loss 1.9907 Accuracy 0.2878\n",
            "Epoch 10 Batch 500 Loss 1.9953 Accuracy 0.2877\n",
            "Epoch 10 Batch 550 Loss 1.9970 Accuracy 0.2874\n",
            "Epoch 10 Batch 600 Loss 1.9993 Accuracy 0.2875\n",
            "Epoch 10 Batch 650 Loss 2.0057 Accuracy 0.2875\n",
            "Epoch 10 Batch 700 Loss 2.0075 Accuracy 0.2874\n",
            "Epoch 10 Loss 2.0077 Accuracy 0.2875\n",
            "Time taken for 1 epoch: 92.06732296943665 secs\n",
            "\n",
            "Epoch 11 Batch 0 Loss 1.6063 Accuracy 0.3014\n",
            "Epoch 11 Batch 50 Loss 1.7716 Accuracy 0.3032\n",
            "Epoch 11 Batch 100 Loss 1.7896 Accuracy 0.3035\n",
            "Epoch 11 Batch 150 Loss 1.8084 Accuracy 0.2994\n",
            "Epoch 11 Batch 200 Loss 1.8190 Accuracy 0.2995\n",
            "Epoch 11 Batch 250 Loss 1.8264 Accuracy 0.2984\n",
            "Epoch 11 Batch 300 Loss 1.8335 Accuracy 0.2977\n",
            "Epoch 11 Batch 350 Loss 1.8373 Accuracy 0.2977\n",
            "Epoch 11 Batch 400 Loss 1.8391 Accuracy 0.2974\n",
            "Epoch 11 Batch 450 Loss 1.8442 Accuracy 0.2974\n",
            "Epoch 11 Batch 500 Loss 1.8473 Accuracy 0.2971\n",
            "Epoch 11 Batch 550 Loss 1.8509 Accuracy 0.2971\n",
            "Epoch 11 Batch 600 Loss 1.8513 Accuracy 0.2968\n",
            "Epoch 11 Batch 650 Loss 1.8558 Accuracy 0.2966\n",
            "Epoch 11 Batch 700 Loss 1.8591 Accuracy 0.2966\n",
            "Epoch 11 Loss 1.8592 Accuracy 0.2966\n",
            "Time taken for 1 epoch: 91.59369397163391 secs\n",
            "\n",
            "Epoch 12 Batch 0 Loss 1.6778 Accuracy 0.2812\n",
            "Epoch 12 Batch 50 Loss 1.6642 Accuracy 0.3029\n",
            "Epoch 12 Batch 100 Loss 1.6768 Accuracy 0.3067\n",
            "Epoch 12 Batch 150 Loss 1.6890 Accuracy 0.3063\n",
            "Epoch 12 Batch 200 Loss 1.6916 Accuracy 0.3070\n",
            "Epoch 12 Batch 250 Loss 1.7023 Accuracy 0.3064\n",
            "Epoch 12 Batch 300 Loss 1.7072 Accuracy 0.3057\n",
            "Epoch 12 Batch 350 Loss 1.7097 Accuracy 0.3063\n",
            "Epoch 12 Batch 400 Loss 1.7152 Accuracy 0.3058\n",
            "Epoch 12 Batch 450 Loss 1.7170 Accuracy 0.3058\n",
            "Epoch 12 Batch 500 Loss 1.7185 Accuracy 0.3054\n",
            "Epoch 12 Batch 550 Loss 1.7233 Accuracy 0.3050\n",
            "Epoch 12 Batch 600 Loss 1.7286 Accuracy 0.3049\n",
            "Epoch 12 Batch 650 Loss 1.7310 Accuracy 0.3047\n",
            "Epoch 12 Batch 700 Loss 1.7363 Accuracy 0.3048\n",
            "Epoch 12 Loss 1.7360 Accuracy 0.3049\n",
            "Time taken for 1 epoch: 91.48372507095337 secs\n",
            "\n",
            "Epoch 13 Batch 0 Loss 1.6402 Accuracy 0.3228\n",
            "Epoch 13 Batch 50 Loss 1.5512 Accuracy 0.3180\n",
            "Epoch 13 Batch 100 Loss 1.5766 Accuracy 0.3168\n",
            "Epoch 13 Batch 150 Loss 1.5876 Accuracy 0.3158\n",
            "Epoch 13 Batch 200 Loss 1.5944 Accuracy 0.3150\n",
            "Epoch 13 Batch 250 Loss 1.6003 Accuracy 0.3144\n",
            "Epoch 13 Batch 300 Loss 1.6038 Accuracy 0.3138\n",
            "Epoch 13 Batch 350 Loss 1.6061 Accuracy 0.3132\n",
            "Epoch 13 Batch 400 Loss 1.6093 Accuracy 0.3128\n",
            "Epoch 13 Batch 450 Loss 1.6124 Accuracy 0.3124\n",
            "Epoch 13 Batch 500 Loss 1.6182 Accuracy 0.3122\n",
            "Epoch 13 Batch 550 Loss 1.6233 Accuracy 0.3116\n",
            "Epoch 13 Batch 600 Loss 1.6292 Accuracy 0.3118\n",
            "Epoch 13 Batch 650 Loss 1.6326 Accuracy 0.3114\n",
            "Epoch 13 Batch 700 Loss 1.6369 Accuracy 0.3109\n",
            "Epoch 13 Loss 1.6370 Accuracy 0.3109\n",
            "Time taken for 1 epoch: 91.83988928794861 secs\n",
            "\n",
            "Epoch 14 Batch 0 Loss 1.5885 Accuracy 0.2812\n",
            "Epoch 14 Batch 50 Loss 1.4705 Accuracy 0.3184\n",
            "Epoch 14 Batch 100 Loss 1.4800 Accuracy 0.3208\n",
            "Epoch 14 Batch 150 Loss 1.4881 Accuracy 0.3211\n",
            "Epoch 14 Batch 200 Loss 1.4971 Accuracy 0.3204\n",
            "Epoch 14 Batch 250 Loss 1.5060 Accuracy 0.3190\n",
            "Epoch 14 Batch 300 Loss 1.5097 Accuracy 0.3191\n",
            "Epoch 14 Batch 350 Loss 1.5129 Accuracy 0.3183\n",
            "Epoch 14 Batch 400 Loss 1.5169 Accuracy 0.3178\n",
            "Epoch 14 Batch 450 Loss 1.5213 Accuracy 0.3176\n",
            "Epoch 14 Batch 500 Loss 1.5268 Accuracy 0.3175\n",
            "Epoch 14 Batch 550 Loss 1.5322 Accuracy 0.3171\n",
            "Epoch 14 Batch 600 Loss 1.5390 Accuracy 0.3165\n",
            "Epoch 14 Batch 650 Loss 1.5443 Accuracy 0.3163\n",
            "Epoch 14 Batch 700 Loss 1.5496 Accuracy 0.3163\n",
            "Epoch 14 Loss 1.5501 Accuracy 0.3163\n",
            "Time taken for 1 epoch: 92.23281455039978 secs\n",
            "\n",
            "Epoch 15 Batch 0 Loss 1.4721 Accuracy 0.3709\n",
            "Epoch 15 Batch 50 Loss 1.3849 Accuracy 0.3259\n",
            "Epoch 15 Batch 100 Loss 1.3946 Accuracy 0.3262\n",
            "Epoch 15 Batch 150 Loss 1.4031 Accuracy 0.3269\n",
            "Epoch 15 Batch 200 Loss 1.4133 Accuracy 0.3255\n",
            "Epoch 15 Batch 250 Loss 1.4238 Accuracy 0.3257\n",
            "Epoch 15 Batch 300 Loss 1.4302 Accuracy 0.3256\n",
            "Epoch 15 Batch 350 Loss 1.4342 Accuracy 0.3251\n",
            "Epoch 15 Batch 400 Loss 1.4411 Accuracy 0.3255\n",
            "Epoch 15 Batch 450 Loss 1.4445 Accuracy 0.3254\n",
            "Epoch 15 Batch 500 Loss 1.4515 Accuracy 0.3247\n",
            "Epoch 15 Batch 550 Loss 1.4576 Accuracy 0.3237\n",
            "Epoch 15 Batch 600 Loss 1.4635 Accuracy 0.3231\n",
            "Epoch 15 Batch 650 Loss 1.4702 Accuracy 0.3227\n",
            "Epoch 15 Batch 700 Loss 1.4755 Accuracy 0.3223\n",
            "Epoch 15 Loss 1.4755 Accuracy 0.3223\n",
            "Time taken for 1 epoch: 92.6782956123352 secs\n",
            "\n",
            "Epoch 16 Batch 0 Loss 1.3495 Accuracy 0.3526\n",
            "Epoch 16 Batch 50 Loss 1.3241 Accuracy 0.3337\n",
            "Epoch 16 Batch 100 Loss 1.3283 Accuracy 0.3302\n",
            "Epoch 16 Batch 150 Loss 1.3385 Accuracy 0.3313\n",
            "Epoch 16 Batch 200 Loss 1.3519 Accuracy 0.3308\n",
            "Epoch 16 Batch 250 Loss 1.3587 Accuracy 0.3301\n",
            "Epoch 16 Batch 300 Loss 1.3659 Accuracy 0.3300\n",
            "Epoch 16 Batch 350 Loss 1.3705 Accuracy 0.3287\n",
            "Epoch 16 Batch 400 Loss 1.3786 Accuracy 0.3282\n",
            "Epoch 16 Batch 450 Loss 1.3807 Accuracy 0.3280\n",
            "Epoch 16 Batch 500 Loss 1.3871 Accuracy 0.3277\n",
            "Epoch 16 Batch 550 Loss 1.3929 Accuracy 0.3273\n",
            "Epoch 16 Batch 600 Loss 1.3965 Accuracy 0.3270\n",
            "Epoch 16 Batch 650 Loss 1.4011 Accuracy 0.3269\n",
            "Epoch 16 Batch 700 Loss 1.4068 Accuracy 0.3266\n",
            "Epoch 16 Loss 1.4067 Accuracy 0.3266\n",
            "Time taken for 1 epoch: 92.10948252677917 secs\n",
            "\n",
            "Epoch 17 Batch 0 Loss 1.3682 Accuracy 0.3162\n",
            "Epoch 17 Batch 50 Loss 1.2613 Accuracy 0.3382\n",
            "Epoch 17 Batch 100 Loss 1.2710 Accuracy 0.3378\n",
            "Epoch 17 Batch 150 Loss 1.2765 Accuracy 0.3364\n",
            "Epoch 17 Batch 200 Loss 1.2869 Accuracy 0.3361\n",
            "Epoch 17 Batch 250 Loss 1.2954 Accuracy 0.3355\n",
            "Epoch 17 Batch 300 Loss 1.3066 Accuracy 0.3353\n",
            "Epoch 17 Batch 350 Loss 1.3097 Accuracy 0.3349\n",
            "Epoch 17 Batch 400 Loss 1.3149 Accuracy 0.3342\n",
            "Epoch 17 Batch 450 Loss 1.3179 Accuracy 0.3340\n",
            "Epoch 17 Batch 500 Loss 1.3231 Accuracy 0.3337\n",
            "Epoch 17 Batch 550 Loss 1.3288 Accuracy 0.3331\n",
            "Epoch 17 Batch 600 Loss 1.3333 Accuracy 0.3326\n",
            "Epoch 17 Batch 650 Loss 1.3398 Accuracy 0.3320\n",
            "Epoch 17 Batch 700 Loss 1.3454 Accuracy 0.3316\n",
            "Epoch 17 Loss 1.3455 Accuracy 0.3315\n",
            "Time taken for 1 epoch: 92.14987254142761 secs\n",
            "\n",
            "Epoch 18 Batch 0 Loss 1.1333 Accuracy 0.3475\n",
            "Epoch 18 Batch 50 Loss 1.2019 Accuracy 0.3397\n",
            "Epoch 18 Batch 100 Loss 1.2153 Accuracy 0.3411\n",
            "Epoch 18 Batch 150 Loss 1.2273 Accuracy 0.3424\n",
            "Epoch 18 Batch 200 Loss 1.2363 Accuracy 0.3405\n",
            "Epoch 18 Batch 250 Loss 1.2411 Accuracy 0.3394\n",
            "Epoch 18 Batch 300 Loss 1.2468 Accuracy 0.3389\n",
            "Epoch 18 Batch 350 Loss 1.2551 Accuracy 0.3388\n",
            "Epoch 18 Batch 400 Loss 1.2605 Accuracy 0.3386\n",
            "Epoch 18 Batch 450 Loss 1.2639 Accuracy 0.3383\n",
            "Epoch 18 Batch 500 Loss 1.2721 Accuracy 0.3374\n",
            "Epoch 18 Batch 550 Loss 1.2783 Accuracy 0.3364\n",
            "Epoch 18 Batch 600 Loss 1.2831 Accuracy 0.3362\n",
            "Epoch 18 Batch 650 Loss 1.2879 Accuracy 0.3358\n",
            "Epoch 18 Batch 700 Loss 1.2917 Accuracy 0.3358\n",
            "Epoch 18 Loss 1.2922 Accuracy 0.3357\n",
            "Time taken for 1 epoch: 92.60619449615479 secs\n",
            "\n",
            "Epoch 19 Batch 0 Loss 1.0985 Accuracy 0.3788\n",
            "Epoch 19 Batch 50 Loss 1.1283 Accuracy 0.3486\n",
            "Epoch 19 Batch 100 Loss 1.1537 Accuracy 0.3467\n",
            "Epoch 19 Batch 150 Loss 1.1663 Accuracy 0.3454\n",
            "Epoch 19 Batch 200 Loss 1.1751 Accuracy 0.3430\n",
            "Epoch 19 Batch 250 Loss 1.1817 Accuracy 0.3420\n",
            "Epoch 19 Batch 300 Loss 1.1894 Accuracy 0.3429\n",
            "Epoch 19 Batch 350 Loss 1.1985 Accuracy 0.3421\n",
            "Epoch 19 Batch 400 Loss 1.2037 Accuracy 0.3416\n",
            "Epoch 19 Batch 450 Loss 1.2092 Accuracy 0.3409\n",
            "Epoch 19 Batch 500 Loss 1.2167 Accuracy 0.3407\n",
            "Epoch 19 Batch 550 Loss 1.2238 Accuracy 0.3400\n",
            "Epoch 19 Batch 600 Loss 1.2292 Accuracy 0.3395\n",
            "Epoch 19 Batch 650 Loss 1.2360 Accuracy 0.3390\n",
            "Epoch 19 Batch 700 Loss 1.2409 Accuracy 0.3388\n",
            "Epoch 19 Loss 1.2414 Accuracy 0.3388\n",
            "Time taken for 1 epoch: 92.15607357025146 secs\n",
            "\n",
            "Epoch 20 Batch 0 Loss 1.1968 Accuracy 0.3490\n",
            "Epoch 20 Batch 50 Loss 1.1273 Accuracy 0.3461\n",
            "Epoch 20 Batch 100 Loss 1.1255 Accuracy 0.3463\n",
            "Epoch 20 Batch 150 Loss 1.1274 Accuracy 0.3469\n",
            "Epoch 20 Batch 200 Loss 1.1361 Accuracy 0.3469\n",
            "Epoch 20 Batch 250 Loss 1.1436 Accuracy 0.3458\n",
            "Epoch 20 Batch 300 Loss 1.1522 Accuracy 0.3452\n",
            "Epoch 20 Batch 350 Loss 1.1564 Accuracy 0.3455\n",
            "Epoch 20 Batch 400 Loss 1.1652 Accuracy 0.3442\n",
            "Epoch 20 Batch 450 Loss 1.1714 Accuracy 0.3444\n",
            "Epoch 20 Batch 500 Loss 1.1772 Accuracy 0.3442\n",
            "Epoch 20 Batch 550 Loss 1.1839 Accuracy 0.3436\n",
            "Epoch 20 Batch 600 Loss 1.1880 Accuracy 0.3430\n",
            "Epoch 20 Batch 650 Loss 1.1921 Accuracy 0.3425\n",
            "Epoch 20 Batch 700 Loss 1.1975 Accuracy 0.3424\n",
            "Epoch 20 Loss 1.1977 Accuracy 0.3424\n",
            "Time taken for 1 epoch: 91.6240496635437 secs\n",
            "\n"
          ],
          "name": "stdout"
        }
      ]
    },
    {
      "cell_type": "code",
      "metadata": {
        "id": "aX_FAL8Myv5f",
        "colab_type": "code",
        "colab": {}
      },
      "source": [
        ""
      ],
      "execution_count": 0,
      "outputs": []
    }
  ]
}